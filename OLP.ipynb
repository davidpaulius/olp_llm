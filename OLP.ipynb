{
 "cells": [
  {
   "cell_type": "markdown",
   "metadata": {},
   "source": [
    "## OLP_LLM: Pipeline for generating FOON graphs via LLM Prompting"
   ]
  },
  {
   "cell_type": "markdown",
   "metadata": {},
   "source": [
    "## Step 1 :- Generate a FOON via LLM Prompting\n",
    "\n",
    "1. Initialize libraries needed for FOON (``FOON_graph_analyser.py``) as well as OpenAI api.\n",
    "\n",
    "2. Perform 2-stage prompting for recipe prototype.\n",
    "    - In the first stage, we ask the LLM for a *high-level recipe* (list of instructions) and a *list of objects* needed for completing the recipe.\n",
    "    - In the second stage, we ask the LLM for a breakdown of *state changes* that happen for each step of the recipe; specifically, we ask for the *preconditions* and *effects* of each action, which is similar to how a functional unit in FOON has *input* and *output object nodes*."
   ]
  },
  {
   "cell_type": "markdown",
   "metadata": {},
   "source": [
    "### Initialize library"
   ]
  },
  {
   "cell_type": "code",
   "execution_count": 1,
   "metadata": {},
   "outputs": [],
   "source": [
    "from olp_library import *"
   ]
  },
  {
   "cell_type": "markdown",
   "metadata": {},
   "source": [
    "### Language to  OLP"
   ]
  },
  {
   "cell_type": "code",
   "execution_count": 2,
   "metadata": {},
   "outputs": [
    {
     "name": "stdout",
     "output_type": "stream",
     "text": [
      "Objects used in plan: ['table', 'blue block', 'green block', 'red block']\n"
     ]
    }
   ],
   "source": [
    "openai_models = [\"gpt-3.5-turbo\", \"gpt-4-1106-preview\", \"gpt-4\",]\n",
    "\n",
    "# NOTE: all incontext examples will be stored within a JSON file:\n",
    "# -- Q: can we randomly sample from the set of incontext examples?\n",
    "# -- Q: should we also select an example \"closest\" to the provided task?\n",
    "# incontext_file = \"incontext_examples.txt\"\n",
    "incontext_file = \"incontext_examples.json\"\n",
    "\n",
    "LLM_to_PDDL = True\n",
    "\n",
    "user_tasks = [\n",
    "    \"I am thirsty and in need of energy: how do I make coffee?\",\n",
    "    \"I am thirsty: how do I make a lemonade?\",\n",
    "    \"I am thirsty: how do I make a Bloody Mary cocktail?\",\n",
    "    \"I have a red block, a green block, and a blue block on a table: how do I stack them such that the colours are in alphabetical order?\",\n",
    "    # \"I have a red block, a green block, and a blue block. and a box on a table: how do I pack the blocks into the box such that the colours are in alphabetical order?\",\n",
    "\t# \"I have a white toy, a blue toy, and a green toy. I also have two boxes: a blue box and a green box.\"\\\n",
    "    #     \" How can I pack the toys into boxes so that each box only has toys of the same colour?\"\n",
    "]\n",
    "\n",
    "user_task = user_tasks[-1]\n",
    "\n",
    "OLP_results = generate_OLP(user_task, incontext_file, openai_models[-1], verbose=False)\n",
    "\n",
    "print('Objects used in plan:', OLP_results['RelevantObjects'])"
   ]
  },
  {
   "cell_type": "code",
   "execution_count": 3,
   "metadata": {},
   "outputs": [
    {
     "name": "stdout",
     "output_type": "stream",
     "text": [
      "***********************\n",
      "    High level plan\n",
      "***********************\n",
      "High-Level Plan:\n",
      "1. Pick and place the blue block on the table.\n",
      "2. Pick and place the green block on top of the blue block.\n",
      "3. Pick and place the red block on top of the green block.\n",
      "\n",
      "unique_objects: [\"table\", \"blue block\", \"green block\", \"red block\"]\n",
      "\n",
      "***********************\n",
      "   Object level plan\n",
      "***********************\n",
      "\n",
      "{'Query': 'How do I stack the blocks in alphabetical order?', 'CompleteObjectSet': ['table', 'blue block', 'green block', 'red block'], 'Instructions': [{'Step': 1, 'Instruction': 'Pick and place the blue block on the table.', 'RelatedObjects': ['blue block', 'table'], 'Action': 'Pick and Place', 'State': {'blue block': {'Precondition': ['on table'], 'Effect': ['on table']}, 'table': {'Precondition': ['empty'], 'Effect': ['contains blue block']}}}, {'Step': 2, 'Instruction': 'Pick and place the green block on top of the blue block.', 'RelatedObjects': ['green block', 'blue block'], 'Action': 'Pick and Place', 'State': {'green block': {'Precondition': ['on table'], 'Effect': ['on blue block']}, 'blue block': {'Precondition': ['on table'], 'Effect': ['under green block']}}}, {'Step': 3, 'Instruction': 'Pick and place the red block on top of the green block.', 'RelatedObjects': ['red block', 'green block'], 'Action': 'Pick and Place', 'State': {'red block': {'Precondition': ['on table'], 'Effect': ['on green block']}, 'green block': {'Precondition': ['on blue block'], 'Effect': ['under red block']}, 'blue block': {'Precondition': ['under green block'], 'Effect': ['under green block']}, 'table': {'Precondition': ['contains blue block', 'contains green block', 'contains red block'], 'Effect': ['contains blue block', 'contains green block', 'contains red block']}}}]}\n",
      "\n",
      "***********************\n",
      "   Plan objects\n",
      "***********************\n",
      "['table', 'blue block', 'green block', 'red block']\n",
      "\n"
     ]
    }
   ],
   "source": [
    "## Visualize Outputs\n",
    "print(f\"***********************\\n    High level plan\\n***********************\\n{OLP_results['PlanSketch']}\\n\")\n",
    "print(\"***********************\\n   Object level plan\\n***********************\\n\")\n",
    "print(OLP_results['OLP'], sep=\"\\n\")\n",
    "print(f\"\\n***********************\\n   Plan objects\\n***********************\\n{OLP_results['RelevantObjects']}\\n\")"
   ]
  },
  {
   "cell_type": "markdown",
   "metadata": {},
   "source": [
    "#### Sample FOON creation\n"
   ]
  },
  {
   "cell_type": "code",
   "execution_count": 4,
   "metadata": {},
   "outputs": [
    {
     "name": "stdout",
     "output_type": "stream",
     "text": [
      "Creating functional unit for Step 1: Pick and place the blue block on the table.\n",
      "-> related objects: ['blue block', 'table']\n",
      "Current object is : blue block\n",
      "\t blue block state changes: {'Precondition': ['on table'], 'Effect': ['on table']}\n",
      "\t\t Precondition : on table || related objects: table\n",
      "\t\t Effect : on table || related objects: table\n",
      " -- WARNING: unchanged object node is being added to this functional unit!\n",
      "O\tblue block\n",
      "S\ton\t [table]\n",
      "M\tPick and Place\t<Assumed>\n"
     ]
    }
   ],
   "source": [
    "# plan_step, plan_objects = OLP_results['OLP'],\n",
    "\n",
    "if '.json' in str(incontext_file).lower():\n",
    "    sample_unit = create_functionalUnit_ver2(OLP_results['OLP'], index=0)\n",
    "else:\n",
    "    sample_unit = create_functionalUnit_ver1(OLP_results['OLP'][0]['Instructions'],OLP_results['RelevantObjects'])\n",
    "\n",
    "sample_unit.print_functions[2](version=1)"
   ]
  },
  {
   "cell_type": "markdown",
   "metadata": {},
   "source": [
    "#### Creating FOON units"
   ]
  },
  {
   "cell_type": "code",
   "execution_count": 5,
   "metadata": {},
   "outputs": [
    {
     "name": "stdout",
     "output_type": "stream",
     "text": [
      "Creating functional unit for Step 1: Pick and place the blue block on the table.\n",
      "-> related objects: ['blue block', 'table']\n",
      "Current object is : blue block\n",
      "\t blue block state changes: {'Precondition': ['on table'], 'Effect': ['on table']}\n",
      "\t\t Precondition : on table || related objects: table\n",
      "\t\t Effect : on table || related objects: table\n",
      " -- WARNING: unchanged object node is being added to this functional unit!\n",
      "NOTE: the following functional unit has an error, so skipping it:\n",
      "O\tblue block\n",
      "S\ton\t [table]\n",
      "M\tPick and Place\t<Assumed>\n",
      "\n",
      "Creating functional unit for Step 2: Pick and place the green block on top of the blue block.\n",
      "-> related objects: ['green block', 'blue block']\n",
      "Current object is : green block\n",
      "\t green block state changes: {'Precondition': ['on table'], 'Effect': ['on blue block']}\n",
      "\t\t Precondition : on table || related objects: table\n",
      "\t\t Effect : on blue block || related objects: blue block\n",
      "Current object is : blue block\n",
      "\t blue block state changes: {'Precondition': ['on table'], 'Effect': ['under green block']}\n",
      "\t\t Precondition : on table || related objects: table\n",
      "\t\t Effect : under green block || related objects: green block\n",
      "\n",
      "Creating functional unit for Step 3: Pick and place the red block on top of the green block.\n",
      "-> related objects: ['red block', 'green block']\n",
      "Current object is : red block\n",
      "\t red block state changes: {'Precondition': ['on table'], 'Effect': ['on green block']}\n",
      "\t\t Precondition : on table || related objects: table\n",
      "\t\t Effect : on green block || related objects: green block\n",
      "Current object is : green block\n",
      "\t green block state changes: {'Precondition': ['on blue block'], 'Effect': ['under red block']}\n",
      "\t\t Precondition : on blue block || related objects: blue block\n",
      "\t\t Effect : under red block || related objects: red block\n",
      "\n"
     ]
    }
   ],
   "source": [
    "FOON_prototype = []\n",
    "\n",
    "for x in range(len(OLP_results['OLP']['Instructions'])):\n",
    "\n",
    "    new_unit = None\n",
    "\n",
    "    if '.json' in str(incontext_file).lower():\n",
    "        new_unit = create_functionalUnit_ver2(OLP_results['OLP'], index=x)\n",
    "\n",
    "    else:\n",
    "        print(step['Step'])\n",
    "        # -- now we will create functional units that follow the FOON format:\n",
    "        new_unit = create_functionalUnit_ver1(step, plan_objects)\n",
    "\n",
    "    # -- set output objects as goal nodes:\n",
    "    if x == (len(OLP_results['OLP']['Instructions']) - 1):\n",
    "        for N in range(new_unit.getNumberOfOutputs()):\n",
    "            new_unit.getOutputNodes()[N].setAsGoal()\n",
    "\n",
    "    # -- add the functional unit to the FOON prototype:\n",
    "\n",
    "    if not new_unit.isEmpty():\n",
    "        # -- we should only add a new functional unit if it is not empty, meaning it must have the following:\n",
    "        #    1. >=1 input node and >= 1 output node\n",
    "        #    2. a valid motion node\n",
    "        FOON_prototype.append(new_unit)\n",
    "    else:\n",
    "        print('NOTE: the following functional unit has an error, so skipping it:')\n",
    "        new_unit.print_functions[-1]()\n",
    "\n",
    "    print()\n"
   ]
  },
  {
   "cell_type": "markdown",
   "metadata": {},
   "source": [
    "#### Testing PDDL Operator Generation via LLM prompting"
   ]
  },
  {
   "cell_type": "code",
   "execution_count": 6,
   "metadata": {},
   "outputs": [
    {
     "name": "stdout",
     "output_type": "stream",
     "text": [
      "(:action pick_and_place_blue_block_on_table\n",
      "  :parameters ()\n",
      "  :precondition (and (on blue_block table) (not (in table blue_block)))\n",
      "  :effect (and (on blue_block table) (in table blue_block)))\n",
      "\n",
      "(:action pick_and_place_green_block_on_blue_block\n",
      "  :parameters ()\n",
      "  :precondition (and (on green_block table) (on blue_block table) (not (on green_block blue_block)) (not (under blue_block green_block)))\n",
      "  :effect (and (on green_block blue_block) (under blue_block green_block)))\n",
      "\n",
      "(:action pick_and_place_red_block_on_green_block\n",
      "  :parameters ()\n",
      "  :precondition (and (on red_block table) (on green_block blue_block) (under blue_block green_block) (not (on red_block green_block)) (not (under green_block red_block)) (in table blue_block) (in table green_block) (in table red_block))\n",
      "  :effect (and (on red_block green_block) (under green_block red_block) (in table blue_block) (in table green_block) (in table red_block)))\n"
     ]
    }
   ],
   "source": [
    "if LLM_to_PDDL:\n",
    "\n",
    "    pddl_system_prompt = \"You are generating PDDL files for robot planning.\"\\\n",
    "        \" When generating domain actions, do not include variables and keep the parameters empty.\"\\\n",
    "        \" Write predicates using the original name of the object as in the dictionary.\"\\\n",
    "        \" If an object name contains a whitespace, replace it with an underscore.\"\\\n",
    "        \" You should also use negations where applicable. If something is \\\"empty\\\", say that it contains \\\"air\\\".\"\\\n",
    "        \" Use the following predicates:\\n\"\\\n",
    "        \"(:predicates\\n\"\\\n",
    "        \"   (in ?obj_1 - object ?obj_2 - object) -- this means ?obj_2 is in ?obj_1\\n\"\\\n",
    "        \"   (on ?obj_1 - object ?obj_2 - object) -- this means ?obj_2 is on ?obj_1\\n\"\\\n",
    "        \"   (under ?obj_1 - object ?obj_2 - object) -- this means ?obj_2 is under ?obj_1\\n\\n\" \\\n",
    "        \"   (is-whole ?obj_1 - object) (is-diced ?obj_1 - object) (is-chopped ?obj_1 - object) (is-sliced ?obj_1 - object) (is-mixed ?obj_1 - object)\"\\\n",
    "        \" (is-ground ?obj_1 - object) (is-juiced ?obj_1 - object) (is-spread ?obj_1 - object) )\"\n",
    "        # \"\\n\\nUse the following example:\\n\"\\\n",
    "        # \"(:action pour_water\\n\"\\\n",
    "        # \" :parameters ()\\n\"\\\n",
    "        # \" :precondition (and\\n\"\\\n",
    "        # \"   (in cup water)\\n\"\\\n",
    "        # \"   (in bowl air)\\n\"\\\n",
    "        # \" )\\n\"\\\n",
    "        # \" :effect (and \"\\\n",
    "        # \"   (in bowl water)\\n\"\\\n",
    "        # \"   (in cup air)\\n\"\\\n",
    "        # \"   (not (in cup water))\\n\"\\\n",
    "        # \"   (not (in bowl air))\\n\"\\\n",
    "        # \" )\"\\\n",
    "        # \")\"\n",
    "\n",
    "    message = [{\"role\": \"system\", \"content\": pddl_system_prompt}]\n",
    "\n",
    "    # for x in range(len(OLP_results['OLP']['Instructions'])):\n",
    "    pddl_user_prompt = f\"Generate PDDL for :\\n{OLP_results['OLP']['Instructions']}\"\n",
    "\n",
    "    message.extend([{\"role\": \"user\", \"content\": pddl_user_prompt}])\n",
    "\n",
    "    _, response = prompt_LLM(given_prompt=message, model_name=openai_models[-1], verbose=False)\n",
    "    print(response)\n"
   ]
  },
  {
   "cell_type": "markdown",
   "metadata": {},
   "source": [
    "### Writing FOON to a Text File"
   ]
  },
  {
   "cell_type": "code",
   "execution_count": 7,
   "metadata": {},
   "outputs": [
    {
     "name": "stdout",
     "output_type": "stream",
     "text": [
      "O\tgreen block\n",
      "S\ton\t [table]\n",
      "O\tblue block\n",
      "S\ton\t [table]\n",
      "M\tPick and Place\t<Assumed>\n",
      "O\tgreen block\n",
      "S\ton\t [blue block]\n",
      "O\tblue block\n",
      "S\tunder\t [green block]\n",
      "//\n",
      "O\tred block\n",
      "S\ton\t [table]\n",
      "O\tgreen block\n",
      "S\ton\t [blue block]\n",
      "M\tPick and Place\t<Assumed>\n",
      "O\tred block\n",
      "S\ton\t [green block]\n",
      "O\tgreen block\n",
      "S\tunder\t [red block]\n",
      "//\n"
     ]
    }
   ],
   "source": [
    "# -- save the prototype FOON graph as a text file, which we will then run with a parser to correct numbering:\n",
    "if not os.path.exists('preprocess/'):\n",
    "\tos.makedirs('preprocess/')\n",
    "\n",
    "if not os.path.exists('postprocess/'):\n",
    "\tos.makedirs('postprocess/')\n",
    "\n",
    "file_ = open('preprocess/prototype.txt', 'w')\n",
    "file_.write('#\\tFOON Prototype\\n#\\t-- Task Prompt: {0}\\n//\\n'.format(user_task))\n",
    "for unit in FOON_prototype:\n",
    "\tunit.print_functions[2]()\n",
    "\tfile_.write(unit.getFunctionalUnitText())\n",
    "\tprint('//')\n",
    "\n",
    "file_.close()"
   ]
  },
  {
   "cell_type": "markdown",
   "metadata": {},
   "source": [
    "## Step 2 :- FOON to PDDL\n",
    "1. Parse FOON file -- this step is important to ensure that all labels are unique and that the generated file follows the FOON syntax.\n",
    "\n",
    "2. (Optional) Visualize FOON graph\n",
    "\n",
    "3. Run ``FOON_to_PDDL.py`` script to generate FOON macro-operators"
   ]
  },
  {
   "cell_type": "markdown",
   "metadata": {},
   "source": [
    "### Parse and clean generated FOON"
   ]
  },
  {
   "cell_type": "code",
   "execution_count": 8,
   "metadata": {},
   "outputs": [
    {
     "name": "stdout",
     "output_type": "stream",
     "text": [
      "-- [FOON_parser] : Initiating parsing procedure!\n",
      "\n",
      "\n",
      " -- [FOON_parser] : Commencing parsing...\n",
      "  -- parsing 'prototype.txt'...\n",
      "\n",
      " -- [FOON_parser] : Saving corrected files to './postprocess/'...\n",
      "  -- Saving 'prototype.txt'...\n",
      "\n",
      "-- Revising object label senses using WordNet and Concept-Net...\n",
      "\n",
      "\n",
      "SUMMARY OF CHANGES:\n",
      "  -- new total of OBJECTS : 4\n",
      "  -- new total of STATES : 2\n",
      "  -- new total of MOTIONS : 1\n",
      "\n",
      " -- [FOON_parser] : Parsing complete!\n"
     ]
    }
   ],
   "source": [
    "# -- running parsing module to ensure that FOON labels and IDs are made consistent for further use:\n",
    "#\t\t(it is important that each object and state type have a *UNIQUE* identifier)\n",
    "fpa.skip_JSON_conversion = True\t\t# -- we don't need JSON versions of a FOON\n",
    "fpa.skip_index_check = True\t\t\t# -- always create a new set of index files\n",
    "\n",
    "fpa.source_dir = './preprocess/'\n",
    "fpa.target_dir = './postprocess/'\n",
    "fpa._run_parser()"
   ]
  },
  {
   "cell_type": "markdown",
   "metadata": {},
   "source": [
    "### (Optional) Run FOON visualization tool"
   ]
  },
  {
   "cell_type": "code",
   "execution_count": 9,
   "metadata": {},
   "outputs": [],
   "source": [
    "# -- after running the parser, take the 'prototype.txt' file and plot it using the following tool: https://davidpaulius.github.io/foon-view/\n",
    "# fga._startFOONview()"
   ]
  },
  {
   "cell_type": "markdown",
   "metadata": {},
   "source": [
    "### Generate PDDL files using ```FOON_to_PDDL``` module"
   ]
  },
  {
   "cell_type": "code",
   "execution_count": 10,
   "metadata": {},
   "outputs": [
    {
     "name": "stderr",
     "output_type": "stream",
     "text": [
      "  -- Reading file line : 100%|██████████| 21/21 [00:00<00:00, 7026.20it/s]"
     ]
    },
    {
     "name": "stdout",
     "output_type": "stream",
     "text": [
      "\n",
      "< FOON_TAMP: converting FOON graph to PDDL planning problem (last updated: 31st March, 2023)>\n",
      "\n",
      "\n",
      " -- [FOON-fga] : Opening FOON file named './postprocess/prototype.txt'...\n",
      " -- WARNING: unchanged object node is being added to this functional unit!\n",
      " -- WARNING: unchanged object node is being added to this functional unit!\n",
      " -- WARNING: unchanged object node is being added to this functional unit!\n",
      " -- WARNING: unchanged object node is being added to this functional unit!\n",
      "\n",
      " -- [FOON-fga] : Building internal dictionaries...\n",
      " -- [FOON-fga] : Building output-to-FU dictionaries...\n",
      "  -- Level 1: Output object map complete!\n",
      "  -- Level 2: Output object map complete!\n",
      "  -- Level 3: Output object map complete!\n",
      "\n",
      " -- [FOON-fga] : Building object-to-FU dictionaries...\n",
      "  -- Level 1: Object map complete!\n",
      "  -- Level 2: Object map complete!\n",
      "  -- Level 3: Object map complete!\n",
      "\n",
      " -- [FOON_to_PDDL] : Creating domain file named './postprocess/prototype_domain.pddl'...\n",
      "\n",
      " -- [FOON_to_PDDL] : Creating problem file named './postprocess/prototype_problem.pddl'...\n",
      " -- [FOON_retrieval] : Creating file with kitchen items...\n",
      "\n"
     ]
    },
    {
     "name": "stderr",
     "output_type": "stream",
     "text": [
      "\n"
     ]
    },
    {
     "name": "stdout",
     "output_type": "stream",
     "text": [
      "  -- [FOON-TAMP] : A macro-level plan for './postprocess/prototype.txt' was found!\n",
      "\t\t\t0 : (pick_and_place_0 )\n",
      "\t\t\t0 : (pick_and_place_1 )\n",
      " -- [FOON-TAMP] : Searching for micro-level plan for 'pick_and_place_0' macro-PO...\n",
      "./micro_problems-prototype/pick_and_place_0_problem.pddl\n",
      "./FOON_micro_domain.pddl\n"
     ]
    }
   ],
   "source": [
    "import FOON_TAMP as fta\n",
    "from pathlib import Path\n",
    "\n",
    "FOON_subgraph_file = './postprocess/prototype.txt'\n",
    "\n",
    "# -- definition of macro and micro plan file names:\n",
    "macro_plan_file = os.path.splitext(FOON_subgraph_file)[0] + '_macro.plan'\n",
    "micro_plan_file = os.path.splitext(FOON_subgraph_file)[0] + '_micro.plan'\n",
    "\n",
    "fta.micro_domain_file = './FOON_micro_domain.pddl'\n",
    "\n",
    "# -- create a new folder for the generated problem files and their corresponding plans:\n",
    "fta.micro_problems_dir = './micro_problems-' + Path(FOON_subgraph_file).stem\n",
    "if not os.path.exists(fta.micro_problems_dir):\n",
    "    os.makedirs(fta.micro_problems_dir)\n",
    "\n",
    "ftp = fta.ftp\n",
    "\n",
    "# -- perform conversion of the FOON subgraph file to PDDL:\n",
    "ftp.FOON_subgraph_file = FOON_subgraph_file\n",
    "ftp._convert_to_PDDL('OCP')\n",
    "\n",
    "## -- parse through the newly created domain file and find all (macro) planning operators:\n",
    "all_macro_POs = {PO.name : PO for PO in fta._parseDomainPDDL(ftp.FOON_domain_file)}\n",
    "\n",
    "# -- checking to see if a macro level plan has been found (FD allows exporting to a file):\n",
    "outcome = fta._findPlan(\n",
    "    domain_file=ftp.FOON_domain_file,   # NOTE: FOON_to_PDDL object will already contain the names of the\n",
    "    problem_file=ftp.FOON_problem_file,  #   corresponding macro-level domain and problem files\n",
    "    output_plan_file=macro_plan_file\n",
    ")\n",
    "\n",
    "# TODO: write planning pipeline for other planners?\n",
    "\n",
    "complete_micro_plan = []\n",
    "\n",
    "if fta._checkPlannerOutput(output=outcome):\n",
    "    print(\"  -- [FOON-TAMP] : A macro-level plan for '\" + str(FOON_subgraph_file) + \"' was found!\")\n",
    "\n",
    "    # -- now that we have a plan, we are going to parse it for the steps:\n",
    "    macro_file = open(macro_plan_file, 'r')\n",
    "\n",
    "    # NOTE: counters for macro- and micro-level steps:\n",
    "    macro_count, micro_count = 0, 0\n",
    "\n",
    "    macro_plan_lines = list(macro_file)\n",
    "    for L in macro_plan_lines:\n",
    "        if L.startswith('('):\n",
    "            print('\\t\\t\\t' + str(macro_count) + ' : ' + L.strip())\n",
    "\n",
    "    for L in range(len(macro_plan_lines)):\n",
    "\n",
    "        if macro_plan_lines[L].startswith('('):\n",
    "            # NOTE: this is where we have identified a macro plan's step; here, we check the contents of its PO definition for:\n",
    "            #\t1. preconditions - this will become a sub-problem file's initial states (as predicates)\n",
    "            #\t2. effects - this will become a sub-problem file's goal states (as predicates)\n",
    "\n",
    "            macro_count += 1\n",
    "\n",
    "            macro_PO_name = macro_plan_lines[L][1:-2].strip()\n",
    "\n",
    "            print(\" -- [FOON-TAMP] : Searching for micro-level plan for '\" + macro_PO_name + \"' macro-PO...\")\n",
    "\n",
    "            # -- try to find this step's matching planning operator definition:\n",
    "            matching_PO_obj = all_macro_POs[macro_PO_name] if macro_PO_name in all_macro_POs else None\n",
    "\n",
    "            # -- when we find the equivalent planning operator, then we proceed to treat it as its own problem:\n",
    "            if matching_PO_obj:\n",
    "                # -- create sub-problem file (i.e., at the micro-level):\n",
    "                micro_problem_file = fta._defineMicroProblem(\n",
    "                    macro_PO_name,\n",
    "                    preconditions=matching_PO_obj.getPreconditions(),\n",
    "                    effects=matching_PO_obj.getEffects(),\n",
    "                )\n",
    "\n",
    "                complete_micro_plan.append('; step ' + str(macro_count) + ' -- (' + macro_PO_name + '):')\n",
    "\n",
    "                need_to_replan = False\n",
    "\n",
    "                print(micro_problem_file)\n",
    "                print(fta.micro_domain_fileg)\n",
    "\n",
    "                # -- try to find a sub-problem plan / solution:\n",
    "                outcome = fta._findPlan(\n",
    "                    domain_file=fta.micro_domain_file,\n",
    "                    problem_file=micro_problem_file,\n",
    "                    output_plan_file=str(fta.micro_problems_dir + '/' + macro_PO_name + '_micro.plan')\n",
    "                )\n",
    "\n",
    "                print('\\n\\t' + 'step ' + str(macro_count) +' -- (' + macro_PO_name + ')')\n",
    "\n",
    "                if fta._checkPlannerOutput(outcome):\n",
    "\n",
    "                    print('\\t\\t -- micro-level plan found as follows:')\n",
    "\n",
    "                    # -- open the micro problem file, read each line referring to a micro PO, and save to list:\n",
    "                    micro_file = open(\n",
    "                        str(fta.micro_problems_dir + '/' + macro_PO_name + '_micro.plan'), 'r')\n",
    "\n",
    "                    # -- all except for the last line should be valid steps:\n",
    "                    micro_file_lines = []\n",
    "                    count = 0\n",
    "\n",
    "                    for micro_line in micro_file:\n",
    "                        if micro_line.startswith('('):\n",
    "                            # -- parse the line and remove trailing newline character:\n",
    "                            micro_step = micro_line.strip()\n",
    "                            micro_file_lines.append(micro_step)\n",
    "\n",
    "                            # -- print entire plan to the command line in format of X.Y,\n",
    "                            #       where X is the macro-step count and Y is the micro-step count:\n",
    "                            count += 1\n",
    "                            print('\\t\\t\\t' + str(macro_count) + '.' + str(count) + ' : ' + micro_step)\n",
    "                        #endif\n",
    "                    #endfor\n",
    "    print()\n",
    "else:\n",
    "    print(\"  -- [FOON-TAMP] : A macro-level plan for '\" + str(FOON_subgraph_file) + \"' was NOT found!\")\n"
   ]
  }
 ],
 "metadata": {
  "kernelspec": {
   "display_name": "olp_llm",
   "language": "python",
   "name": "python3"
  },
  "language_info": {
   "codemirror_mode": {
    "name": "ipython",
    "version": 3
   },
   "file_extension": ".py",
   "mimetype": "text/x-python",
   "name": "python",
   "nbconvert_exporter": "python",
   "pygments_lexer": "ipython3",
   "version": "3.9.12"
  }
 },
 "nbformat": 4,
 "nbformat_minor": 2
}
