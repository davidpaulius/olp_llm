{
 "cells": [
  {
   "cell_type": "markdown",
   "metadata": {},
   "source": [
    "# OLP_LLM: Pipeline for generating FOON graphs via LLM Prompting"
   ]
  },
  {
   "cell_type": "markdown",
   "metadata": {},
   "source": [
    "## Step 1 :- Generate a FOON via LLM Prompting\n",
    "\n",
    "1. Initialize libraries needed for FOON (``FOON_graph_analyser.py``) as well as OpenAI api.\n",
    "\n",
    "2. Perform 2-stage prompting for recipe prototype.\n",
    "    - In the first stage, we ask the LLM for a *high-level recipe* (list of instructions) and a *list of objects* needed for completing the recipe.\n",
    "    - In the second stage, we ask the LLM for a breakdown of *state changes* that happen for each step of the recipe; specifically, we ask for the *preconditions* and *effects* of each action, which is similar to how a functional unit in FOON has *input* and *output object nodes*."
   ]
  },
  {
   "cell_type": "markdown",
   "metadata": {},
   "source": [
    "### Initialize library"
   ]
  },
  {
   "cell_type": "code",
   "execution_count": 1,
   "metadata": {},
   "outputs": [],
   "source": [
    "from olp_library import *\n",
    "from random import randint, choice, shuffle"
   ]
  },
  {
   "cell_type": "code",
   "execution_count": 146,
   "metadata": {},
   "outputs": [
    {
     "name": "stdout",
     "output_type": "stream",
     "text": [
      "objects presently in scene: ['red_tile', 'blue_tile', 'yellow_tile', 'green_tile', 'red_block_1', 'red_block_2', 'red_block_3', 'blue_block_1', 'blue_block_2', 'yellow_block_1', 'yellow_block_2', 'yellow_block_3', 'green_block_1', 'green_block_2', 'green_block_3', 'green_block_4', 'green_block_5']\n"
     ]
    }
   ],
   "source": [
    "import utamp.driver as driver\n",
    "from utamp.generate import randomize_blocks\n",
    "\n",
    "run_utamp = True\n",
    "\n",
    "if run_utamp:\n",
    "    # -- load the scene only once:\n",
    "    # utamp = driver.UTAMP(scene_file_name='./utamp/scenes/panda_blocks_tiles-5.ttt')\n",
    "\n",
    "    fpath, tally = randomize_blocks('./utamp/scenes/panda_blocks_tiles_prototype.ttt')\n",
    "    utamp = driver.UTAMP(scene_file_name=fpath)\n",
    "\n",
    "    print(\"objects presently in scene:\", utamp.objects_in_sim)"
   ]
  },
  {
   "cell_type": "markdown",
   "metadata": {},
   "source": [
    "### Language to  OLP"
   ]
  },
  {
   "cell_type": "markdown",
   "metadata": {},
   "source": [
    "##### Select a Task"
   ]
  },
  {
   "cell_type": "code",
   "execution_count": 3,
   "metadata": {},
   "outputs": [
    {
     "name": "stdout",
     "output_type": "stream",
     "text": [
      "1 blue block\n",
      "1 green block\n",
      "1 red block\n",
      "2 yellow blocks\n",
      "a green tile\n"
     ]
    }
   ],
   "source": [
    "blue_phrase = f\"{tally['blue']} blue block{'s' if tally['blue'] > 1 else ''}\"\n",
    "green_phrase = f\"{tally['green']} green block{'s' if tally['green'] > 1 else ''}\"\n",
    "red_phrase = f\"{tally['red']} red block{'s' if tally['red'] > 1 else ''}\"\n",
    "yellow_phrase = f\"{tally['yellow']} yellow block{'s' if tally['yellow'] > 1 else ''}\"\n",
    "\n",
    "print(blue_phrase)\n",
    "print(green_phrase)\n",
    "print(red_phrase)\n",
    "print(yellow_phrase)\n",
    "\n",
    "block_phrases = [blue_phrase, green_phrase, red_phrase, yellow_phrase]\n",
    "shuffle(block_phrases)\n",
    "\n",
    "# -- randomly select tiles of focus for generating a task:\n",
    "tile_phrases = []\n",
    "for C, _ in tally.items():\n",
    "\tif bool(randint(0, 1)):\n",
    "\t\ttile_phrases.append(f\"a {C} tile\")\n",
    "\n",
    "if not bool(tile_phrases):\n",
    "\t# -- at least one colour will be randomly selected:\n",
    "    random_colour = choice(list(tally.keys()))\n",
    "    tile_phrases = [f\"a {random_colour} tile\"]\n",
    "\n",
    "tile_phrase = \"\"\n",
    "for C in tile_phrases:\n",
    "    tile_phrase += (\"\" if tile_phrases.index(C) < len(tile_phrases) - 1  or len(tile_phrases) == 1 else \"and \") + C + (\", \" if tile_phrases.index(C) < len(tile_phrases) - 2 else \" \" if tile_phrases.index(C) < len(tile_phrases) - 1 else \"\")\n",
    "\n",
    "print(tile_phrase)\n",
    "\n",
    "user_tasks = [\n",
    "    f\"I have {block_phrases[0]}, {block_phrases[1]}, {block_phrases[2]}, and {block_phrases[3]}. There is {tile_phrase} on the table. How can I stack all blocks on their corresponding tiles?\",\n",
    "    # f\"I have {yellow_phrase}, {blue_phrase}, {green_phrase}, and {red_phrase} on a table. How can I stack the blocks in alphabetical order of colour?\",\n",
    "    # f\"I have {yellow_phrase}, {blue_phrase}, {green_phrase}, and {red_phrase} on a table. How can I stack the blocks in reverse alphabetical order of colour?\",\n",
    "]"
   ]
  },
  {
   "cell_type": "markdown",
   "metadata": {},
   "source": [
    "#### Perform Planning with LLM Prompting"
   ]
  },
  {
   "cell_type": "code",
   "execution_count": 4,
   "metadata": {},
   "outputs": [
    {
     "name": "stdout",
     "output_type": "stream",
     "text": [
      "Objects used in plan: ['green block', 'green tile']\n",
      "Terminal Steps: [1]\n"
     ]
    }
   ],
   "source": [
    "openai_models = [\"gpt-3.5-turbo\", \"gpt-4\"]\n",
    "\n",
    "# NOTE: all incontext examples will be stored within a JSON file:\n",
    "# -- Q: can we randomly sample from the set of incontext examples?\n",
    "# -- Q: should we also select an example \"closest\" to the provided task?\n",
    "# incontext_file = \"incontext_examples.txt\"\n",
    "incontext_file = \"incontext_examples.json\"\n",
    "\n",
    "LLM_to_PDDL = True\n",
    "\n",
    "user_task = choice(user_tasks)\n",
    "selected_LLM = openai_models[-1]\n",
    "\n",
    "llm_output = generate_OLP(user_task,\n",
    "\t\t\t\t\t\t  incontext_file,\n",
    "\t\t\t\t\t\t  selected_LLM,\n",
    "\t\t\t\t\t\t  verbose=False)\n",
    "\n",
    "print('Objects used in plan:', llm_output['RelevantObjects'])\n",
    "print('Terminal Steps:', llm_output['TerminalSteps'])\n",
    "\n",
    "json.dump(llm_output, open('raw_OLP.json', 'w'), indent=4)"
   ]
  },
  {
   "cell_type": "code",
   "execution_count": 5,
   "metadata": {},
   "outputs": [
    {
     "name": "stdout",
     "output_type": "stream",
     "text": [
      "TASK: I have 2 yellow blocks, 1 red block, 1 green block, and 1 blue block. There is a green tile on the table. How can I stack all blocks on their corresponding tiles?\n",
      "***********************\n",
      "    High level plan\n",
      "***********************\n",
      "High-level Plan:\n",
      "1. Pick and place the green block on the green tile.\n",
      "\n",
      "Rationale: Since we only have a green tile, we will only stack the green block. We ignore the yellow, red, and blue blocks since there are no corresponding tiles.\n",
      "\n",
      "unique_objects: [\"green block\", \"green tile\"]\n",
      "\n"
     ]
    }
   ],
   "source": [
    "print(\"TASK:\",  user_task)\n",
    "print(f\"***********************\\n    High level plan\\n***********************\\n{llm_output['PlanSketch']}\\n\")"
   ]
  },
  {
   "cell_type": "code",
   "execution_count": 6,
   "metadata": {},
   "outputs": [
    {
     "name": "stdout",
     "output_type": "stream",
     "text": [
      "***********************\n",
      "   Object level plan\n",
      "***********************\n",
      "\n",
      "{'Query': 'How can I stack all blocks on their corresponding tiles?', 'CompleteObjectSet': ['green block', 'green tile'], 'Instructions': [{'Step': 1, 'Instruction': 'Pick and place the green block on the green tile.', 'RelatedObjects': ['green block', 'green tile'], 'Action': 'Pick and Place', 'State': {'green block': {'Precondition': ['on table'], 'Effect': ['on green tile']}, 'green tile': {'Precondition': ['on table'], 'Effect': ['on table', 'contains green block']}}}]}\n",
      "\n",
      "***********************\n",
      "   Plan objects\n",
      "***********************\n",
      "['green block', 'green tile']\n",
      "\n"
     ]
    }
   ],
   "source": [
    "print(\"***********************\\n   Object level plan\\n***********************\\n\")\n",
    "print(llm_output['OLP'], sep=\"\\n\")\n",
    "print(f\"\\n***********************\\n   Plan objects\\n***********************\\n{llm_output['RelevantObjects']}\\n\")"
   ]
  },
  {
   "cell_type": "markdown",
   "metadata": {},
   "source": [
    "#### Sample FOON creation"
   ]
  },
  {
   "cell_type": "code",
   "execution_count": 7,
   "metadata": {},
   "outputs": [
    {
     "name": "stdout",
     "output_type": "stream",
     "text": [
      "Creating functional unit for Step 1: Pick and place the green block on the green tile.\n",
      "-> related objects: ['green block', 'green tile']\n",
      "Current object is : green block\n",
      "\t green block state changes: {'Precondition': ['on table'], 'Effect': ['on green tile']}\n",
      "\t\t Precondition : on table || related objects: table\n",
      "\t\t Effect : on green tile || related objects: green tile\n",
      "Current object is : green tile\n",
      "\t green tile state changes: {'Precondition': ['on table'], 'Effect': ['on table', 'contains green block']}\n",
      "\t\t Precondition : on table || related objects: table\n",
      "\t\t Effect : on table || related objects: table\n",
      "\t\t Effect : contains green block || related objects: None\n",
      "O\tgreen block\n",
      "S\ton\t [table]\n",
      "O\tgreen tile\n",
      "S\ton\t [table]\n",
      "M\tPick and Place\t<Assumed>\n",
      "O\tgreen block\n",
      "S\ton\t [green tile]\n",
      "O\tgreen tile\n",
      "S\tcontains\t{green block}\n",
      "S\ton\t [table]\n"
     ]
    }
   ],
   "source": [
    "# plan_step, plan_objects = llm_output['OLP'],\n",
    "\n",
    "if '.json' in str(incontext_file).lower():\n",
    "    sample_unit = create_functionalUnit_ver2(llm_output, index=0)\n",
    "else:\n",
    "    sample_unit = create_functionalUnit_ver1(llm_output['OLP'][0]['Instructions'],llm_output['RelevantObjects'])\n",
    "\n",
    "sample_unit.print_functions[2](version=1)"
   ]
  },
  {
   "cell_type": "markdown",
   "metadata": {},
   "source": [
    "#### Creating FOON units"
   ]
  },
  {
   "cell_type": "code",
   "execution_count": 8,
   "metadata": {},
   "outputs": [
    {
     "name": "stdout",
     "output_type": "stream",
     "text": [
      "Creating functional unit for Step 1: Pick and place the green block on the green tile.\n",
      "-> related objects: ['green block', 'green tile']\n",
      "Current object is : green block\n",
      "\t green block state changes: {'Precondition': ['on table'], 'Effect': ['on green tile']}\n",
      "\t\t Precondition : on table || related objects: table\n",
      "\t\t Effect : on green tile || related objects: green tile\n",
      "Current object is : green tile\n",
      "\t green tile state changes: {'Precondition': ['on table'], 'Effect': ['on table', 'contains green block']}\n",
      "\t\t Precondition : on table || related objects: table\n",
      "\t\t Effect : on table || related objects: table\n",
      "\t\t Effect : contains green block || related objects: None\n",
      "Functional unit #0 has terminal goals!\n",
      "O\tgreen block\n",
      "S\ton\t [table]\n",
      "O\tgreen tile\n",
      "S\ton\t [table]\n",
      "M\tPick and Place\t<Assumed>\n",
      "O\tgreen block\n",
      "S\ton\t [green tile]\n",
      "O\tgreen tile\n",
      "S\tcontains\t{green block}\n",
      "S\ton\t [table]\n",
      "\n"
     ]
    }
   ],
   "source": [
    "FOON_prototype = []\n",
    "\n",
    "for x in range(len(llm_output['OLP']['Instructions'])):\n",
    "\n",
    "    new_unit = None\n",
    "\n",
    "    if '.json' in str(incontext_file).lower():\n",
    "        new_unit = create_functionalUnit_ver2(llm_output, index=x)\n",
    "\n",
    "    # else:\n",
    "    #     print(step['Step'])\n",
    "    #     # -- now we will create functional units that follow the FOON format:\n",
    "    #     new_unit = create_functionalUnit_ver1(step, plan_objects)\n",
    "\n",
    "    # NOTE: in order to define a macro-problem, we need to properly identify all goal nodes;\n",
    "    #       we will do this with the help of the LLM:\n",
    "    if 'TerminalSteps' in llm_output and (x+1) in llm_output['TerminalSteps']:\n",
    "        # -- set output objects as goal nodes for the functional units deemed as terminal steps:\n",
    "        print(f'Functional unit #{x} has terminal goals!')\n",
    "        for N in range(new_unit.getNumberOfOutputs()):\n",
    "            new_unit.getOutputNodes()[N].setAsGoal()\n",
    "\n",
    "    # elif x == (len(llm_output['OLP']['Instructions']) - 1):\n",
    "    #     # -- by default, treat the last functional unit as the terminal unit:\n",
    "    #     for N in range(new_unit.getNumberOfOutputs()):\n",
    "    #         new_unit.getOutputNodes()[N].setAsGoal()\n",
    "\n",
    "    # -- add the functional unit to the FOON prototype:\n",
    "\n",
    "    if not new_unit.isEmpty():\n",
    "        # -- we should only add a new functional unit if it is not empty, meaning it must have the following:\n",
    "        #    1. >=1 input node and >= 1 output node\n",
    "        #    2. a valid motion node\n",
    "        FOON_prototype.append(new_unit)\n",
    "        FOON_prototype[-1].print_functions[-1]()\n",
    "    else:\n",
    "        print('NOTE: the following functional unit has an error, so skipping it:')\n",
    "        new_unit.print_functions[-1]()\n",
    "\n",
    "    print()\n"
   ]
  },
  {
   "cell_type": "markdown",
   "metadata": {},
   "source": [
    "#### Testing PDDL Operator Generation via LLM prompting"
   ]
  },
  {
   "cell_type": "code",
   "execution_count": 9,
   "metadata": {},
   "outputs": [
    {
     "name": "stdout",
     "output_type": "stream",
     "text": [
      "(:action pick_and_place_green_block_on_green_tile\n",
      " :parameters ()\n",
      " :precondition (and (on green_block table) (on green_tile table))\n",
      " :effect (and (on green_block green_tile) (not (on green_block table)) (in green_tile green_block))\n",
      ")\n"
     ]
    }
   ],
   "source": [
    "if LLM_to_PDDL:\n",
    "\n",
    "    pddl_sys_prompt_file = \"llm_prompts/pddl_system_prompt.txt\"\n",
    "\n",
    "    pddl_system_prompt = open(pddl_sys_prompt_file, 'r').read()\n",
    "\n",
    "    message = [{\"role\": \"system\", \"content\": pddl_system_prompt}]\n",
    "\n",
    "    # for x in range(len(OLP_results['OLP']['Instructions'])):\n",
    "    pddl_user_prompt = f\"Generate PDDL for :\\n{llm_output['OLP']['Instructions']}\"\n",
    "\n",
    "    message.extend([{\"role\": \"user\", \"content\": pddl_user_prompt}])\n",
    "\n",
    "    _, response = prompt_LLM(given_prompt=message,\n",
    "                             model_name=openai_models[-1], )\n",
    "    print(response)\n"
   ]
  },
  {
   "cell_type": "markdown",
   "metadata": {},
   "source": [
    "### Writing FOON to a Text File"
   ]
  },
  {
   "cell_type": "code",
   "execution_count": 10,
   "metadata": {},
   "outputs": [
    {
     "name": "stdout",
     "output_type": "stream",
     "text": [
      "how_can_i_stack_all_blocks_on_their_corresponding_tiles.txt\n"
     ]
    }
   ],
   "source": [
    "temp_file_name = 'prototype.txt'\n",
    "task_file_name = f\"{str.lower(re.compile('[^a-zA-Z]').sub('_', llm_output['OLP']['Query'])[:-1])}.txt\"\n",
    "print(task_file_name)"
   ]
  },
  {
   "cell_type": "code",
   "execution_count": 11,
   "metadata": {},
   "outputs": [
    {
     "name": "stdout",
     "output_type": "stream",
     "text": [
      "O\tgreen block\n",
      "S\ton\t [table]\n",
      "O\tgreen tile\n",
      "S\ton\t [table]\n",
      "M\tPick and Place\t<Assumed>\n",
      "O\tgreen block\n",
      "S\ton\t [green tile]\n",
      "O\tgreen tile\n",
      "S\tcontains\t{green block}\n",
      "S\ton\t [table]\n",
      "//\n"
     ]
    }
   ],
   "source": [
    "# -- save the prototype FOON graph as a text file, which we will then run with a parser to correct numbering:\n",
    "if not os.path.exists('./preprocess/'):\n",
    "    os.makedirs('./preprocess/')\n",
    "\n",
    "if not os.path.exists('./postprocess/'):\n",
    "    os.makedirs('./postprocess/')\n",
    "\n",
    "temp_file = open(f'./preprocess/{temp_file_name}', 'w')\n",
    "temp_file.write('#\\tFOON Prototype\\n#\\t-- Task Prompt: {0}\\n//\\n'.format(user_task))\n",
    "for unit in FOON_prototype:\n",
    "    unit.print_functions[2]()\n",
    "    temp_file.write(unit.getFunctionalUnitText())\n",
    "    print('//')\n",
    "\n",
    "temp_file.close()"
   ]
  },
  {
   "cell_type": "markdown",
   "metadata": {},
   "source": [
    "## Step 2 :- FOON to PDDL\n",
    "1. Parse FOON file -- this step is important to ensure that all labels are unique and that the generated file follows the FOON syntax.\n",
    "\n",
    "2. (Optional) Visualize FOON graph\n",
    "\n",
    "3. Run ``FOON_to_PDDL.py`` script to generate FOON macro-operators"
   ]
  },
  {
   "cell_type": "markdown",
   "metadata": {},
   "source": [
    "### Parse and clean generated FOON"
   ]
  },
  {
   "cell_type": "code",
   "execution_count": 12,
   "metadata": {},
   "outputs": [
    {
     "name": "stdout",
     "output_type": "stream",
     "text": [
      "-- [FOON_parser] : Initiating parsing procedure!\n",
      "\n",
      "\n",
      " -- [FOON_parser] : Commencing parsing...\n",
      "  -- parsing 'prototype.txt'...\n",
      "\n",
      " -- [FOON_parser] : Saving corrected files to './postprocess/'...\n",
      "  -- Saving 'prototype.txt'...\n",
      "\n",
      "-- Revising object label senses using WordNet and Concept-Net...\n",
      "\n",
      "\n",
      "SUMMARY OF CHANGES:\n",
      "  -- new total of OBJECTS : 3\n",
      "  -- new total of STATES : 2\n",
      "  -- new total of MOTIONS : 1\n",
      "\n",
      " -- [FOON_parser] : Parsing complete!\n"
     ]
    }
   ],
   "source": [
    "# -- running parsing module to ensure that FOON labels and IDs are made consistent for further use:\n",
    "#\t\t(it is important that each object and state type have a *UNIQUE* identifier)\n",
    "fpa.skip_JSON_conversion = True\t\t# -- we don't need JSON versions of a FOON\n",
    "fpa.skip_index_check = True\t\t\t# -- always create a new set of index files\n",
    "\n",
    "fpa.source_dir = './preprocess/'\n",
    "fpa.target_dir = './postprocess/'\n",
    "fpa._run_parser()"
   ]
  },
  {
   "cell_type": "code",
   "execution_count": 13,
   "metadata": {},
   "outputs": [],
   "source": [
    "with open(f'./postprocess/{temp_file_name}', 'r') as input_file:\n",
    "    with open(f'./postprocess/{task_file_name}', 'w') as output_file:\n",
    "        for line in input_file:\n",
    "            output_file.write(line)"
   ]
  },
  {
   "cell_type": "markdown",
   "metadata": {},
   "source": [
    "### (Optional) Run FOON visualization tool"
   ]
  },
  {
   "cell_type": "code",
   "execution_count": 14,
   "metadata": {},
   "outputs": [],
   "source": [
    "# -- after running the parser, take the 'prototype.txt' file and plot it using the following tool: https://davidpaulius.github.io/foon-view/\n",
    "# fga._startFOONview()"
   ]
  },
  {
   "cell_type": "markdown",
   "metadata": {},
   "source": [
    "### Generate PDDL files using ```FOON_to_PDDL``` module"
   ]
  },
  {
   "cell_type": "code",
   "execution_count": 15,
   "metadata": {},
   "outputs": [
    {
     "name": "stderr",
     "output_type": "stream",
     "text": [
      "  -- Reading file line : 100%|██████████| 12/12 [00:00<?, ?it/s]"
     ]
    },
    {
     "name": "stdout",
     "output_type": "stream",
     "text": [
      "\n",
      "< FOON_TAMP: converting FOON graph to PDDL planning problem (last updated: 31st March, 2023)>\n",
      "\n",
      "\n",
      " -- [FOON-fga] : Opening FOON file named './postprocess/how_can_i_stack_all_blocks_on_their_corresponding_tiles.txt'...\n",
      " -- WARNING: unchanged object node is being added to this functional unit!\n",
      " -- WARNING: unchanged object node is being added to this functional unit!\n",
      "\n",
      " -- [FOON-fga] : Building internal dictionaries...\n",
      " -- [FOON-fga] : Building output-to-FU dictionaries...\n",
      "  -- Level 1: Output object map complete!\n",
      "  -- Level 2: Output object map complete!\n",
      "  -- Level 3: Output object map complete!\n",
      "\n",
      " -- [FOON-fga] : Building object-to-FU dictionaries...\n",
      "  -- Level 1: Object map complete!\n",
      "  -- Level 2: Object map complete!\n",
      "  -- Level 3: Object map complete!\n",
      "\n",
      " -- [FOON_to_PDDL] : Creating domain file named './postprocess/how_can_i_stack_all_blocks_on_their_corresponding_tiles_domain.pddl'...\n",
      "\n",
      " -- [FOON_to_PDDL] : Creating problem file named './postprocess/how_can_i_stack_all_blocks_on_their_corresponding_tiles_problem.pddl'...\n",
      " -- [FOON_retrieval] : Creating file with kitchen items...\n",
      "\n",
      "python3 C:/Users/david/fast-downward-23.06/fast-downward.py --plan-file ./postprocess/how_can_i_stack_all_blocks_on_their_corresponding_tiles_macro.plan ./postprocess/how_can_i_stack_all_blocks_on_their_corresponding_tiles_domain.pddl ./postprocess/how_can_i_stack_all_blocks_on_their_corresponding_tiles_problem.pddl --search astar(lmcut())\n"
     ]
    },
    {
     "name": "stderr",
     "output_type": "stream",
     "text": [
      "\n"
     ]
    },
    {
     "name": "stdout",
     "output_type": "stream",
     "text": [
      "  -- [FOON-TAMP] : A macro-level plan for './postprocess/how_can_i_stack_all_blocks_on_their_corresponding_tiles.txt' was found!\n",
      "\t\t\t0 : (pick_and_place_0 )\n",
      "\n",
      " -- [FOON-TAMP] : Searching for micro-level plan for 'pick_and_place_0' macro-PO...\n",
      "python3 C:/Users/david/fast-downward-23.06/fast-downward.py --plan-file ./micro_problems-how_can_i_stack_all_blocks_on_their_corresponding_tiles/pick_and_place_0_micro.plan ./micro_problems-how_can_i_stack_all_blocks_on_their_corresponding_tiles\\./FOON_skills.pddl ./micro_problems-how_can_i_stack_all_blocks_on_their_corresponding_tiles/pick_and_place_0_problem.pddl --search astar(lmcut())\n",
      "\n",
      "\tstep 1 -- (pick_and_place_0)\n",
      "\t\t -- micro-level plan found as follows:\n",
      "\t\t\t1.1 : (move robot robot table)\n",
      "\t\t\t1.2 : (pick green_block table)\n",
      "\t\t\t1.3 : (move robot table green_tile)\n",
      "\t\t\t1.4 : (place green_block green_tile)\n",
      "\n",
      "\n"
     ]
    }
   ],
   "source": [
    "import FOON_TAMP as fta\n",
    "from pathlib import Path\n",
    "\n",
    "FOON_subgraph_file = f'./postprocess/{task_file_name}'\n",
    "\n",
    "# -- definition of macro and micro plan file names:\n",
    "macro_plan_file = os.path.splitext(FOON_subgraph_file)[0] + '_macro.plan'\n",
    "micro_plan_file = os.path.splitext(FOON_subgraph_file)[0] + '_micro.plan'\n",
    "\n",
    "fta.micro_domain_file = './FOON_skills.pddl'\n",
    "\n",
    "fta.flag_perception = False\n",
    "\n",
    "# -- create a new folder for the generated problem files and their corresponding plans:\n",
    "fta.micro_problems_dir = './micro_problems-' + Path(FOON_subgraph_file).stem\n",
    "if not os.path.exists(fta.micro_problems_dir):\n",
    "    os.makedirs(fta.micro_problems_dir)\n",
    "\n",
    "ftp = fta.ftp\n",
    "\n",
    "# -- perform conversion of the FOON subgraph file to PDDL:\n",
    "ftp.FOON_subgraph_file = FOON_subgraph_file\n",
    "ftp._convert_to_PDDL('OCP')\n",
    "\n",
    "## -- parse through the newly created domain file and find all (macro) planning operators:\n",
    "all_macro_POs = {PO.name : PO for PO in fta._parseDomainPDDL(ftp.FOON_domain_file)}\n",
    "\n",
    "# -- checking to see if a macro level plan has been found (FD allows exporting to a file):\n",
    "outcome = fta._findPlan(\n",
    "    domain_file=ftp.FOON_domain_file,   # NOTE: FOON_to_PDDL object will already contain the names of the\n",
    "    problem_file=ftp.FOON_problem_file,  #   corresponding macro-level domain and problem files\n",
    "    output_plan_file=macro_plan_file\n",
    ")\n",
    "\n",
    "# TODO: write planning pipeline for other planners?\n",
    "\n",
    "complete_micro_plan = []\n",
    "\n",
    "if fta._checkPlannerOutput(output=outcome):\n",
    "    print(\"  -- [FOON-TAMP] : A macro-level plan for '\" + str(FOON_subgraph_file) + \"' was found!\")\n",
    "\n",
    "    # -- now that we have a plan, we are going to parse it for the steps:\n",
    "    macro_file = open(macro_plan_file, 'r')\n",
    "\n",
    "    # NOTE: counters for macro- and micro-level steps:\n",
    "    macro_count, micro_count = 0, 0\n",
    "\n",
    "    macro_plan_lines = list(macro_file)\n",
    "    for L in macro_plan_lines:\n",
    "        if L.startswith('('):\n",
    "            print('\\t\\t\\t' + str(macro_count) + ' : ' + L.strip())\n",
    "    print()\n",
    "\n",
    "    for L in range(len(macro_plan_lines)):\n",
    "\n",
    "        if macro_plan_lines[L].startswith('('):\n",
    "            # NOTE: this is where we have identified a macro plan's step; here, we check the contents of its PO definition for:\n",
    "            #\t1. preconditions - this will become a sub-problem file's initial states (as predicates)\n",
    "            #\t2. effects - this will become a sub-problem file's goal states (as predicates)\n",
    "\n",
    "            macro_count += 1\n",
    "\n",
    "            macro_PO_name = macro_plan_lines[L][1:-2].strip()\n",
    "\n",
    "            print(\" -- [FOON-TAMP] : Searching for micro-level plan for '\" + macro_PO_name + \"' macro-PO...\")\n",
    "\n",
    "            # -- try to find this step's matching planning operator definition:\n",
    "            matching_PO_obj = all_macro_POs[macro_PO_name] if macro_PO_name in all_macro_POs else None\n",
    "\n",
    "            # -- when we find the equivalent planning operator, then we proceed to treat it as its own problem:\n",
    "            if matching_PO_obj:\n",
    "                # -- create sub-problem file (i.e., at the micro-level):\n",
    "                micro_problem_file = fta._defineMicroProblem(\n",
    "                    macro_PO_name,\n",
    "                    preconditions=matching_PO_obj.getPreconditions(),\n",
    "                    effects=matching_PO_obj.getEffects(),\n",
    "                )\n",
    "\n",
    "                micro_domain_file = fta._defineMicroDomain(\n",
    "                    preconditions=matching_PO_obj.getPreconditions(),\n",
    "                )\n",
    "\n",
    "                complete_micro_plan.append('; step ' + str(macro_count) + ' -- (' + macro_PO_name + '):')\n",
    "\n",
    "                need_to_replan = False\n",
    "\n",
    "                # -- try to find a sub-problem plan / solution:\n",
    "                outcome = fta._findPlan(\n",
    "                    domain_file=micro_domain_file,\n",
    "                    problem_file=micro_problem_file,\n",
    "                    output_plan_file=str(fta.micro_problems_dir + '/' + macro_PO_name + '_micro.plan')\n",
    "                )\n",
    "\n",
    "                print('\\n\\t' + 'step ' + str(macro_count) +' -- (' + macro_PO_name + ')')\n",
    "\n",
    "                if fta._checkPlannerOutput(outcome):\n",
    "\n",
    "                    print('\\t\\t -- micro-level plan found as follows:')\n",
    "\n",
    "                    # -- open the micro problem file, read each line referring to a micro PO, and save to list:\n",
    "                    micro_file = open(\n",
    "                        str(fta.micro_problems_dir + '/' + macro_PO_name + '_micro.plan'), 'r')\n",
    "\n",
    "                    # -- all except for the last line should be valid steps:\n",
    "                    micro_file_lines = []\n",
    "                    count = 0\n",
    "\n",
    "                    for micro_line in micro_file:\n",
    "                        if micro_line.startswith('('):\n",
    "                            # -- parse the line and remove trailing newline character:\n",
    "                            micro_step = micro_line.strip()\n",
    "                            micro_file_lines.append(micro_step)\n",
    "\n",
    "                            # -- print entire plan to the command line in format of X.Y,\n",
    "                            #       where X is the macro-step count and Y is the micro-step count:\n",
    "                            count += 1\n",
    "                            print('\\t\\t\\t' + str(macro_count) + '.' + str(count) + ' : ' + micro_step)\n",
    "                        #endif\n",
    "                    #endfor\n",
    "        print()\n",
    "else:\n",
    "    print(\"  -- [FOON-TAMP] : A macro-level plan for '\" + str(FOON_subgraph_file) + \"' was NOT found!\")\n"
   ]
  },
  {
   "cell_type": "code",
   "execution_count": 16,
   "metadata": {},
   "outputs": [
    {
     "name": "stdout",
     "output_type": "stream",
     "text": [
      " -- [FOON-TAMP] : Searching for micro-level plan for 'pick_and_place_0' macro-PO...\n",
      "python3 C:/Users/david/fast-downward-23.06/fast-downward.py --plan-file ./micro_problems-how_can_i_stack_all_blocks_on_their_corresponding_tiles/pick_and_place_0_micro.plan ./micro_problems-how_can_i_stack_all_blocks_on_their_corresponding_tiles\\./FOON_skills.pddl ./micro_problems-how_can_i_stack_all_blocks_on_their_corresponding_tiles/pick_and_place_0_problem.pddl --search astar(lmcut())\n",
      "  -- [FOON-TAMP] : Error with planner execution! (planner used: fast-downward)\n",
      "     -- Error code: 1 -- b\"INFO     planner time limit: None\\r\\nINFO     planner memory limit: None\\r\\n\\r\\nINFO     Running translator.\\r\\nINFO     translator stdin: None\\r\\nINFO     translator time limit: None\\r\\nINFO     translator memory limit: None\\r\\nINFO     translator command line string: 'c:\\\\Python\\\\Python3\\\\python3.exe' 'C:\\\\Users\\\\david\\\\fast-downward-23.06\\\\builds\\\\release\\\\bin\\\\translate\\\\translate.py' './micro_problems-how_can_i_stack_all_blocks_on_their_corresponding_tiles\\\\./FOON_skills.pddl' ./micro_problems-how_can_i_stack_all_blocks_on_their_corresponding_tiles/pick_and_place_0_problem.pddl --sas-file output.sas\\r\\nWarning! SIGXCPU is not available on your platform. This means that the planner cannot be gracefully terminated when using a time limit, which, however, is probably supported on your platform anyway.\\r\\nParsing...\\r\\nParsing: [0.000s CPU, 0.004s wall-clock]\\r\\nNormalizing task... [0.000s CPU, 0.000s wall-clock]\\r\\nInstantiating...\\r\\nGenerating Datalog program... [0.000s CPU, 0.001s wall-clock]\\r\\nNormalizing Datalog program...\\r\\nNormalizing Datalog program: [0.000s CPU, 0.003s wall-clock]\\r\\nPreparing model... [0.000s CPU, 0.002s wall-clock]\\r\\nGenerated 312 rules.\\r\\nComputing model... [0.000s CPU, 0.002s wall-clock]\\r\\n139 relevant atoms\\r\\n525 auxiliary atoms\\r\\n664 final queue length\\r\\n850 total queue pushes\\r\\nCompleting instantiation... [0.000s CPU, 0.001s wall-clock]\\r\\nInstantiating: [0.000s CPU, 0.011s wall-clock]\\r\\nComputing fact groups...\\r\\nFinding invariants...\\r\\n12 initial candidates\\r\\nFinding invariants: [0.000s CPU, 0.003s wall-clock]\\r\\nChecking invariant weight... [0.000s CPU, 0.000s wall-clock]\\r\\nInstantiating groups... [0.000s CPU, 0.000s wall-clock]\\r\\nCollecting mutex groups... [0.000s CPU, 0.000s wall-clock]\\r\\nChoosing groups...\\r\\n22 uncovered facts\\r\\nChoosing groups: [0.000s CPU, 0.000s wall-clock]\\r\\nBuilding translation key... [0.000s CPU, 0.000s wall-clock]\\r\\nComputing fact groups: [0.000s CPU, 0.003s wall-clock]\\r\\nBuilding STRIPS to SAS dictionary... [0.000s CPU, 0.000s wall-clock]\\r\\nBuilding dictionary for full mutex groups... [0.000s CPU, 0.000s wall-clock]\\r\\nBuilding mutex information...\\r\\nBuilding mutex information: [0.000s CPU, 0.000s wall-clock]\\r\\nTranslating task...\\r\\nProcessing axioms...\\r\\nSimplifying axioms... [0.000s CPU, 0.000s wall-clock]\\r\\nTranslator axioms removed by simplifying: 0\\r\\nComputing negative axioms... [0.000s CPU, 0.000s wall-clock]\\r\\nProcessing axioms: [0.000s CPU, 0.001s wall-clock]\\r\\nTranslating task: [0.000s CPU, 0.002s wall-clock]\\r\\n100 effect conditions simplified\\r\\n0 implied preconditions added\\r\\nDetecting unreachable propositions...\\r\\n0 operators removed\\r\\n0 axioms removed\\r\\n3 propositions removed\\r\\nDetecting unreachable propositions: [0.000s CPU, 0.001s wall-clock]\\r\\nReordering and filtering variables...\\r\\n19 of 25 variables necessary.\\r\\n0 of 3 mutex groups necessary.\\r\\n70 of 70 operators necessary.\\r\\n0 of 0 axiom rules necessary.\\r\\nReordering and filtering variables: [0.000s CPU, 0.001s wall-clock]\\r\\nTranslator variables: 19\\r\\nTranslator derived variables: 0\\r\\nTranslator facts: 46\\r\\nTranslator goal facts: 6\\r\\nTranslator mutex groups: 0\\r\\nTranslator total mutex groups size: 0\\r\\nTranslator operators: 70\\r\\nTranslator axioms: 0\\r\\nTranslator task size: 603\\r\\nwarning: could not determine peak memory\\r\\nWriting output... [0.000s CPU, 0.002s wall-clock]\\r\\nDone! [0.000s CPU, 0.023s wall-clock]\\r\\ntranslate exit code: 0\\r\\n\\r\\nINFO     Running search (release).\\r\\n\"\n",
      "\n",
      "\tstep 1 -- (pick_and_place_0)\n",
      "\n"
     ]
    }
   ],
   "source": [
    "complete_micro_plan = []\n",
    "\n",
    "# -- we can also perform a search where we assume we already have a task tree\n",
    "#\t\tand we execute each functional unit one by one as we see\n",
    "\n",
    "macro_plan_lines = []\n",
    "for N in range(len(ftp.fga.FOON_lvl3)):\n",
    "    PO_name = f'{ftp._reviseObjectLabels(ftp.fga.FOON_lvl3[N].getMotion().getMotionLabel())}_{N}'\n",
    "    macro_plan_lines.append(PO_name)\n",
    "\n",
    "macro_count = 0\n",
    "\n",
    "for L in range(len(macro_plan_lines)):\n",
    "\n",
    "    macro_count += 1\n",
    "\n",
    "    macro_PO_name = macro_plan_lines[L]\n",
    "\n",
    "    print(\" -- [FOON-TAMP] : Searching for micro-level plan for '\" + macro_PO_name + \"' macro-PO...\")\n",
    "\n",
    "    # -- try to find this step's matching planning operator definition:\n",
    "    matching_PO_obj = all_macro_POs[macro_PO_name] if macro_PO_name in all_macro_POs else None\n",
    "\n",
    "    # -- when we find the equivalent planning operator, then we proceed to treat it as its own problem:\n",
    "    if matching_PO_obj:\n",
    "        # -- create sub-problem file (i.e., at the micro-level):\n",
    "        micro_problem_file = fta._defineMicroProblem(\n",
    "            macro_PO_name,\n",
    "            preconditions=matching_PO_obj.getPreconditions(),\n",
    "            effects=matching_PO_obj.getEffects(),\n",
    "        )\n",
    "\n",
    "        micro_domain_file = fta._defineMicroDomain(\n",
    "            preconditions=matching_PO_obj.getPreconditions(),\n",
    "        )\n",
    "\n",
    "        complete_micro_plan.append('; step ' + str(macro_count) + ' -- (' + macro_PO_name + '):')\n",
    "\n",
    "        need_to_replan = False\n",
    "\n",
    "        # -- try to find a sub-problem plan / solution:\n",
    "        outcome = fta._findPlan(\n",
    "            domain_file=micro_domain_file,\n",
    "            problem_file=micro_problem_file,\n",
    "            output_plan_file=str(fta.micro_problems_dir + '/' + macro_PO_name + '_micro.plan')\n",
    "        )\n",
    "\n",
    "        print('\\n\\t' + 'step ' + str(macro_count) +' -- (' + macro_PO_name + ')')\n",
    "\n",
    "        if fta._checkPlannerOutput(outcome):\n",
    "\n",
    "            print('\\t\\t -- micro-level plan found as follows:')\n",
    "\n",
    "            # -- open the micro problem file, read each line referring to a micro PO, and save to list:\n",
    "            micro_file = open(\n",
    "                str(fta.micro_problems_dir + '/' + macro_PO_name + '_micro.plan'), 'r')\n",
    "\n",
    "            # -- all except for the last line should be valid steps:\n",
    "            micro_file_lines = []\n",
    "            count = 0\n",
    "\n",
    "            for micro_line in micro_file:\n",
    "                if micro_line.startswith('('):\n",
    "                    # -- parse the line and remove trailing newline character:\n",
    "                    micro_step = micro_line.strip()\n",
    "                    micro_file_lines.append(micro_step)\n",
    "\n",
    "                    # -- print entire plan to the command line in format of X.Y,\n",
    "                    #       where X is the macro-step count and Y is the micro-step count:\n",
    "                    count += 1\n",
    "                    print('\\t\\t\\t' + str(macro_count) + '.' + str(count) + ' : ' + micro_step)\n",
    "                #endif\n",
    "            #endfor\n",
    "    print()\n"
   ]
  },
  {
   "cell_type": "markdown",
   "metadata": {},
   "source": [
    "## Step 3: Connection with UTAMP System"
   ]
  },
  {
   "cell_type": "code",
   "execution_count": 17,
   "metadata": {},
   "outputs": [
    {
     "name": "stdout",
     "output_type": "stream",
     "text": [
      " -- [FOON-TAMP] : Searching for micro-level plan for 'pick_and_place_0' macro-PO...\n",
      "{'green_block': 'green_block_1', 'green_tile': 'green_tile'}\n",
      "before grounding: ['(in hand air)', '(on green_tile green_block)', '(under green_block green_tile)', '(on table green_tile)', '(under green_tile table)']\n",
      "after grounding: ['(in hand air)', '(on green_tile green_block_1)', '(under green_block_1 green_tile)', '(on table green_tile)', '(under green_tile table)']\n",
      "user 51\n",
      "green_tile:on,green_block_1;green_block_1:under,green_tile:on,air;\n",
      "robot:x,0.0:y,0.0:z,0.0:roll,-0.0:pitch,0.0:yaw,-0.0:dx,0.0:dy,0.0:dz,0.0;hand:x,0.6994800000000002:y,0.2499000000000001:z,0.12973999999999997:roll,-3.1362:pitch,0.0005594700000000037:yaw,-1.5647999999999997:dx,0.024275404392629724:dy,0.2044156506692143:dz,0.05569436541288881;worksurface:x,0.5100384449958496:y,1.6720352996602017e-07:z,-0.07891372871402935:roll,0.0:pitch,0.0:yaw,-3.141590299206751:dx,0.6:dy,0.7:dz,0.0;red_tile:x,0.5750384449958343:y,1.8851219441007316e-07:z,-0.0739137175381186:roll,2.2204453213316967e-16:pitch,2.220446777168692e-16:yaw,3.278253475347242e-07:dx,0.08:dy,0.08:dz,0.01;blue_tile:x,0.6996780928040996:y,0.24994089333668926:z,-0.07391371754409948:roll,-9.898055140404294e-11:pitch,-1.6739060041972345e-10:yaw,-0.0038066513501400848:dx,0.08:dy,0.08:dz,0.01;yellow_tile:x,0.4499859040525862:y,-0.25016385856909784:z,-0.07391381211635417:roll,-1.0932394178677574e-05:pitch,5.435169578848194e-06:yaw,-0.001120946313654718:dx,0.08:dy,0.08:dz,0.01;green_tile:x,0.45003840406677176:y,0.12485042066561414:z,-0.0739137175381186:roll,2.2204453213316967e-16:pitch,2.220446777168692e-16:yaw,3.278253475347242e-07:dx,0.08:dy,0.08:dz,0.01;red_block_1:x,0.5750384040667652:y,0.12485046164378255:z,-0.05391371753811869:roll,-1.8485465747606718e-16:pitch,-8.456403288929878e-16:yaw,2.094395430218543:dx,0.05:dy,0.05:dz,0.05;red_block_2:x,0.5750385270012704:y,-0.2501495383561977:z,-0.05391371753811869:roll,-1.8945486757377823e-17:pitch,2.4685436763014466e-16:yaw,1.570796654620244:dx,0.05:dy,0.05:dz,0.05;blue_block_1:x,0.6989597853152592:y,0.2518603913605894:z,-0.04391371754811102:roll,-1.886510595529546e-10:pitch,-3.2519015805447736e-11:yaw,-0.08255854117009748:dx,0.05:dy,0.05:dz,0.05;yellow_block_1:x,0.4488059586629457:y,-0.2503933611267223:z,-0.043913777242835295:roll,-2.356308579315076e-06:pitch,-3.277151303379961e-06:yaw,-0.025911665804980163:dx,0.05:dy,0.05:dz,0.05;green_block_1:x,0.4491866048784584:y,-0.2506514415924106:z,0.006086028195163129:roll,-0.0010452762329643931:pitch,0.0017954767563556047:yaw,0.06131886119751847:dx,0.05:dy,0.05:dz,0.05;green_block_2:x,0.4500384860231086:y,-0.12514957933437265:z,-0.05391371753811869:roll,7.541975714676606e-16:pitch,2.813417438050493e-17:yaw,2.356194818017692:dx,0.05:dy,0.05:dz,0.05;\n",
      "hand:t_1,0:x_1,0.69948:y_1,0.2499:z_1,-0.040265:roll_1,-3.1362:pitch_1,0.00055947:yaw_1,-1.5648:t_2,0.5:x_2,0.69948:y_2,0.2499:z_2,0.10973:roll_2,-3.1362:pitch_2,0.00055947:yaw_2,-1.5648:t_3,1:x_3,0.69948:y_3,0.2499:z_3,0.12974:roll_3,-3.1362:pitch_3,0.00055947:yaw_3,-1.5648:gripper,-1;\n",
      "10\n",
      "Waiting for goal from client.\n",
      "\n",
      "user 52\n",
      "goal\n",
      "objects2\n",
      "actions2\n",
      "-1\n",
      "msg\n",
      "\n",
      "status 10:\tWaiting for goal from client.\n",
      "performing sensing...\n",
      "robot:x,0.0:y,0.0:z,0.0:roll,-0.0:pitch,0.0:yaw,-0.0:dx,0.0:dy,0.0:dz,0.0;hand:x,0.3719399550923749:y,0.12625194264769754:z,0.4767999248504641:roll,-3.1321680595109576:pitch,-0.01483530438521066:yaw,-3.063142177758944:dx,0.024275404392629724:dy,0.2044156506692143:dz,0.05569436541288881;worksurface:x,0.5100384449958496:y,1.6720352996602017e-07:z,-0.07891372871402935:roll,0.0:pitch,0.0:yaw,-3.141590299206751:dx,0.6:dy,0.7:dz,0.0;red_tile:x,0.5750384040667652:y,0.12485046164378255:z,-0.07391372871395285:roll,-0.0:pitch,-0.0:yaw,3.278253474351443e-07:dx,0.08:dy,0.08:dz,0.01;blue_tile:x,0.450038527001277:y,-0.2501495793343661:z,-0.07391372871395285:roll,-0.0:pitch,-0.0:yaw,3.278253474351443e-07:dx,0.08:dy,0.08:dz,0.01;yellow_tile:x,0.45003840406677176:y,0.12485042066561414:z,-0.07391372871395285:roll,-0.0:pitch,-0.0:yaw,3.278253474351443e-07:dx,0.08:dy,0.08:dz,0.01;green_tile:x,0.7000384040667587:y,0.12485050262195097:z,-0.07391372871395285:roll,-0.0:pitch,-0.0:yaw,3.278253474351443e-07:dx,0.08:dy,0.08:dz,0.01;red_block_1:x,0.45003836308860334:y,0.2498504206656076:z,-0.053913728713952946:roll,-0.0:pitch,-0.0:yaw,1.5707966546202439:dx,0.05:dy,0.05:dz,0.05;blue_block_1:x,0.5750384449958343:y,1.8851219441007316e-07:z,-0.05391372871398292:roll,-0.0:pitch,-0.0:yaw,3.278253474351443e-07:dx,0.05:dy,0.05:dz,0.05;yellow_block_1:x,0.45003840406677176:y,0.12485042066561414:z,-0.04391372871395294:roll,-0.0:pitch,-0.0:yaw,2.094395430218543:dx,0.05:dy,0.05:dz,0.05;yellow_block_2:x,0.5750384449958343:y,1.8851219441007316e-07:z,-0.003913728713982878:roll,-0.0:pitch,-0.0:yaw,1.5707966546202439:dx,0.05:dy,0.05:dz,0.05;green_block_1:x,0.5750383630394975:y,0.2500001885121812:z,-0.05391372871398292:roll,-0.0:pitch,-0.0:yaw,1.5707966546202439:dx,0.05:dy,0.05:dz,0.05;\n",
      "status 0:\twaiting for robot sensing\n",
      "status 0:\twaiting for robot sensing\n",
      "status 0:\tsensing completed\n",
      "status 10:\tsensing completed\n",
      "performing sensing...\n",
      "robot:x,0.0:y,0.0:z,0.0:roll,-0.0:pitch,0.0:yaw,-0.0:dx,0.0:dy,0.0:dz,0.0;hand:x,0.3719399550923749:y,0.12625194264769754:z,0.4767999248504641:roll,-3.1321680595109576:pitch,-0.01483530438521066:yaw,-3.063142177758944:dx,0.024275404392629724:dy,0.2044156506692143:dz,0.05569436541288881;worksurface:x,0.5100384449958496:y,1.6720352996602017e-07:z,-0.07891372871402935:roll,0.0:pitch,0.0:yaw,-3.141590299206751:dx,0.6:dy,0.7:dz,0.0;red_tile:x,0.5750384040667652:y,0.12485046164378255:z,-0.07391372871395285:roll,-0.0:pitch,-0.0:yaw,3.278253474351443e-07:dx,0.08:dy,0.08:dz,0.01;blue_tile:x,0.450038527001277:y,-0.2501495793343661:z,-0.07391372871395285:roll,-0.0:pitch,-0.0:yaw,3.278253474351443e-07:dx,0.08:dy,0.08:dz,0.01;yellow_tile:x,0.45003840406677176:y,0.12485042066561414:z,-0.07391372871395285:roll,-0.0:pitch,-0.0:yaw,3.278253474351443e-07:dx,0.08:dy,0.08:dz,0.01;green_tile:x,0.7000384040667587:y,0.12485050262195097:z,-0.07391372871395285:roll,-0.0:pitch,-0.0:yaw,3.278253474351443e-07:dx,0.08:dy,0.08:dz,0.01;red_block_1:x,0.45003836308860334:y,0.2498504206656076:z,-0.053913728713952946:roll,-0.0:pitch,-0.0:yaw,1.5707966546202439:dx,0.05:dy,0.05:dz,0.05;blue_block_1:x,0.5750384449958343:y,1.8851219441007316e-07:z,-0.05391372871398292:roll,-0.0:pitch,-0.0:yaw,3.278253474351443e-07:dx,0.05:dy,0.05:dz,0.05;yellow_block_1:x,0.45003840406677176:y,0.12485042066561414:z,-0.04391372871395294:roll,-0.0:pitch,-0.0:yaw,2.094395430218543:dx,0.05:dy,0.05:dz,0.05;yellow_block_2:x,0.5750384449958343:y,1.8851219441007316e-07:z,-0.003913728713982878:roll,-0.0:pitch,-0.0:yaw,1.5707966546202439:dx,0.05:dy,0.05:dz,0.05;green_block_1:x,0.5750383630394975:y,0.2500001885121812:z,-0.05391372871398292:roll,-0.0:pitch,-0.0:yaw,1.5707966546202439:dx,0.05:dy,0.05:dz,0.05;\n",
      "status 0:\twaiting for robot sensing\n",
      "status 0:\twaiting for robot sensing\n",
      "status 0:\twaiting for robot sensing\n",
      "status 0:\tsensing completed\n",
      "status 0:\tsensing completed\n",
      "status 0:\tsensing completed\n",
      "status 0:\tsensing completed\n",
      "status 0:\tsensing completed\n",
      "status 0:\tsensing completed\n",
      "status 0:\tsensing completed\n",
      "status 0:\tGenerating new plan.\n",
      "status 0:\tGenerating new plan.\n",
      "status 0:\tGenerating new plan.\n",
      "status 0:\tGenerating new plan.\n",
      "status 0:\tGenerating new plan.\n",
      "status 0:\tGenerating new plan.\n",
      "status 0:\tGenerating new plan.\n",
      "status 0:\tGenerating new plan.\n",
      "status 0:\tGenerating new plan.\n",
      "status 0:\tGenerating new plan.\n",
      "status 0:\tGenerating new plan.\n",
      "status 0:\tGenerating new plan.\n",
      "status 0:\tGenerating new plan.\n",
      "status 0:\tGenerating new plan.\n",
      "status 0:\tGenerating new plan.\n",
      "status 0:\tGenerating new plan.\n",
      "status 0:\tGenerating new plan.\n",
      "status 0:\tGenerating new plan.\n",
      "status 0:\tGenerating new plan.\n",
      "status 0:\tGenerating new plan.\n",
      "status 0:\tGenerating new plan.\n",
      "status 0:\tGenerating new plan.\n",
      "status 0:\tGenerating new plan.\n",
      "status 0:\tGenerating new plan.\n",
      "status 0:\tGenerating new plan.\n",
      "status 0:\tGenerating new plan.\n",
      "status 0:\tGenerating new plan.\n",
      "status 0:\tGenerating new plan.\n",
      "status 0:\tGenerating new plan.\n",
      "status 0:\tGenerating new plan.\n",
      "status 0:\tGenerating new plan.\n",
      "status 0:\tGenerating new plan.\n",
      "status 0:\tGenerating new plan.\n",
      "status 0:\tGenerating new plan.\n",
      "status 0:\tGenerating new plan.\n",
      "status 0:\tGenerating new plan.\n",
      "status 0:\tGenerating new plan.\n",
      "status 0:\tGenerating new plan.\n",
      "status 10:\tGenerating new plan.\n",
      "performing sensing...\n",
      "robot:x,0.0:y,0.0:z,0.0:roll,-0.0:pitch,0.0:yaw,-0.0:dx,0.0:dy,0.0:dz,0.0;hand:x,0.3719399550923749:y,0.12625194264769754:z,0.4767999248504641:roll,-3.1321680595109576:pitch,-0.01483530438521066:yaw,-3.063142177758944:dx,0.024275404392629724:dy,0.2044156506692143:dz,0.05569436541288881;worksurface:x,0.5100384449958496:y,1.6720352996602017e-07:z,-0.07891372871402935:roll,0.0:pitch,0.0:yaw,-3.141590299206751:dx,0.6:dy,0.7:dz,0.0;red_tile:x,0.5750384040667652:y,0.12485046164378255:z,-0.07391372871395285:roll,-0.0:pitch,-0.0:yaw,3.278253474351443e-07:dx,0.08:dy,0.08:dz,0.01;blue_tile:x,0.450038527001277:y,-0.2501495793343661:z,-0.07391372871395285:roll,-0.0:pitch,-0.0:yaw,3.278253474351443e-07:dx,0.08:dy,0.08:dz,0.01;yellow_tile:x,0.45003840406677176:y,0.12485042066561414:z,-0.07391372871395285:roll,-0.0:pitch,-0.0:yaw,3.278253474351443e-07:dx,0.08:dy,0.08:dz,0.01;green_tile:x,0.7000384040667587:y,0.12485050262195097:z,-0.07391372871395285:roll,-0.0:pitch,-0.0:yaw,3.278253474351443e-07:dx,0.08:dy,0.08:dz,0.01;red_block_1:x,0.45003836308860334:y,0.2498504206656076:z,-0.053913728713952946:roll,-0.0:pitch,-0.0:yaw,1.5707966546202439:dx,0.05:dy,0.05:dz,0.05;blue_block_1:x,0.5750384449958343:y,1.8851219441007316e-07:z,-0.05391372871398292:roll,-0.0:pitch,-0.0:yaw,3.278253474351443e-07:dx,0.05:dy,0.05:dz,0.05;yellow_block_1:x,0.45003840406677176:y,0.12485042066561414:z,-0.04391372871395294:roll,-0.0:pitch,-0.0:yaw,2.094395430218543:dx,0.05:dy,0.05:dz,0.05;yellow_block_2:x,0.5750384449958343:y,1.8851219441007316e-07:z,-0.003913728713982878:roll,-0.0:pitch,-0.0:yaw,1.5707966546202439:dx,0.05:dy,0.05:dz,0.05;green_block_1:x,0.5750383630394975:y,0.2500001885121812:z,-0.05391372871398292:roll,-0.0:pitch,-0.0:yaw,1.5707966546202439:dx,0.05:dy,0.05:dz,0.05;\n",
      "status 0:\twaiting for robot sensing\n",
      "status 0:\twaiting for robot sensing\n",
      "status 0:\twaiting for robot sensing\n",
      "status 0:\twaiting for robot sensing\n",
      "status 0:\tsensing completed\n",
      "status 0:\tsensing completed\n",
      "status 0:\tsensing completed\n",
      "status 0:\tsensing completed\n",
      "status 0:\tsensing completed\n",
      "status 0:\tsensing completed\n",
      "status 10:\tsensing completed\n",
      "performing sensing...\n",
      "robot:x,0.0:y,0.0:z,0.0:roll,-0.0:pitch,0.0:yaw,-0.0:dx,0.0:dy,0.0:dz,0.0;hand:x,0.3719399550923749:y,0.12625194264769754:z,0.4767999248504641:roll,-3.1321680595109576:pitch,-0.01483530438521066:yaw,-3.063142177758944:dx,0.024275404392629724:dy,0.2044156506692143:dz,0.05569436541288881;worksurface:x,0.5100384449958496:y,1.6720352996602017e-07:z,-0.07891372871402935:roll,0.0:pitch,0.0:yaw,-3.141590299206751:dx,0.6:dy,0.7:dz,0.0;red_tile:x,0.5750384040667652:y,0.12485046164378255:z,-0.07391372871395285:roll,-0.0:pitch,-0.0:yaw,3.278253474351443e-07:dx,0.08:dy,0.08:dz,0.01;blue_tile:x,0.450038527001277:y,-0.2501495793343661:z,-0.07391372871395285:roll,-0.0:pitch,-0.0:yaw,3.278253474351443e-07:dx,0.08:dy,0.08:dz,0.01;yellow_tile:x,0.45003840406677176:y,0.12485042066561414:z,-0.07391372871395285:roll,-0.0:pitch,-0.0:yaw,3.278253474351443e-07:dx,0.08:dy,0.08:dz,0.01;green_tile:x,0.7000384040667587:y,0.12485050262195097:z,-0.07391372871395285:roll,-0.0:pitch,-0.0:yaw,3.278253474351443e-07:dx,0.08:dy,0.08:dz,0.01;red_block_1:x,0.45003836308860334:y,0.2498504206656076:z,-0.053913728713952946:roll,-0.0:pitch,-0.0:yaw,1.5707966546202439:dx,0.05:dy,0.05:dz,0.05;blue_block_1:x,0.5750384449958343:y,1.8851219441007316e-07:z,-0.05391372871398292:roll,-0.0:pitch,-0.0:yaw,3.278253474351443e-07:dx,0.05:dy,0.05:dz,0.05;yellow_block_1:x,0.45003840406677176:y,0.12485042066561414:z,-0.04391372871395294:roll,-0.0:pitch,-0.0:yaw,2.094395430218543:dx,0.05:dy,0.05:dz,0.05;yellow_block_2:x,0.5750384449958343:y,1.8851219441007316e-07:z,-0.003913728713982878:roll,-0.0:pitch,-0.0:yaw,1.5707966546202439:dx,0.05:dy,0.05:dz,0.05;green_block_1:x,0.5750383630394975:y,0.2500001885121812:z,-0.05391372871398292:roll,-0.0:pitch,-0.0:yaw,1.5707966546202439:dx,0.05:dy,0.05:dz,0.05;\n",
      "status 0:\twaiting for robot sensing\n",
      "status 0:\twaiting for robot sensing\n",
      "status 1:\twaiting for robot execution\n",
      "performing execution...\n",
      "close\n",
      "status 0:\twaiting for robot execution\n",
      "status 10:\twaiting for robot execution\n",
      "performing sensing...\n",
      "robot:x,0.0:y,0.0:z,0.0:roll,-0.0:pitch,0.0:yaw,-0.0:dx,0.0:dy,0.0:dz,0.0;hand:x,0.5750400000000003:y,0.25000000000000006:z,-0.05391400000000013:roll,3.1415853071795867:pitch,1.224822542613035e-16:yaw,3.1415853071795867:dx,0.024275404392629724:dy,0.2044156506692143:dz,0.05569436541288881;worksurface:x,0.5100384449958496:y,1.6720352996602017e-07:z,-0.07891372871402935:roll,0.0:pitch,0.0:yaw,-3.141590299206751:dx,0.6:dy,0.7:dz,0.0;red_tile:x,0.5750384040667652:y,0.12485046164378255:z,-0.0739137175381186:roll,2.2204453213316967e-16:pitch,2.220446777168692e-16:yaw,3.278253475347242e-07:dx,0.08:dy,0.08:dz,0.01;blue_tile:x,0.450038527001277:y,-0.2501495793343661:z,-0.0739137175381186:roll,2.2204453213316967e-16:pitch,2.220446777168692e-16:yaw,3.278253475347242e-07:dx,0.08:dy,0.08:dz,0.01;yellow_tile:x,0.4500384039700217:y,0.12485042061994447:z,-0.0739137175405079:roll,-8.021394796438707e-11:pitch,4.171636704643552e-12:yaw,3.281799078047571e-07:dx,0.08:dy,0.08:dz,0.01;green_tile:x,0.7000384040667587:y,0.12485050262195097:z,-0.0739137175381186:roll,2.2204453213316967e-16:pitch,2.220446777168692e-16:yaw,3.278253475347242e-07:dx,0.08:dy,0.08:dz,0.01;red_block_1:x,0.45003836308860334:y,0.24985042066560756:z,-0.05391371753811869:roll,-1.9318594375088965e-17:pitch,-2.808409759016238e-17:yaw,1.570796654620244:dx,0.05:dy,0.05:dz,0.05;blue_block_1:x,0.5750384013887332:y,2.917646072519986e-07:z,-0.05391371820708213:roll,-1.18335388202237e-08:pitch,4.51343331535472e-08:yaw,9.98061525655745e-07:dx,0.05:dy,0.05:dz,0.05;yellow_block_1:x,0.4500384039288753:y,0.12485042061393381:z,-0.04391371754101203:roll,1.0633142036025264e-11:pitch,-2.74953613662562e-10:yaw,2.094395429327369:dx,0.05:dy,0.05:dz,0.05;yellow_block_2:x,0.5750385512310998:y,3.5384154262185774e-07:z,-0.003913717983339726:roll,4.963019433911644e-08:pitch,-3.162873419008553e-08:yaw,1.5707964779026184:dx,0.05:dy,0.05:dz,0.05;green_block_1:x,0.5749038785848023:y,0.2500074174303823:z,-0.05384191398523619:roll,-0.00016483948327310498:pitch,-0.0029870642792449785:yaw,1.570983295083393:dx,0.05:dy,0.05:dz,0.05;\n",
      "status 1:\twaiting for robot execution\n",
      "performing execution...\n",
      "status 10:\twaiting for robot execution\n",
      "performing sensing...\n",
      "robot:x,0.0:y,0.0:z,0.0:roll,-0.0:pitch,0.0:yaw,-0.0:dx,0.0:dy,0.0:dz,0.0;hand:x,0.5750400000000003:y,0.25000000000000006:z,0.11609000000000003:roll,-3.1415853071795867:pitch,1.2248006514719943e-16:yaw,-3.1415853071795867:dx,0.024275404392629724:dy,0.2044156506692143:dz,0.05569436541288881;worksurface:x,0.5100384449958496:y,1.6720352996602017e-07:z,-0.07891372871402935:roll,0.0:pitch,0.0:yaw,-3.141590299206751:dx,0.6:dy,0.7:dz,0.0;red_tile:x,0.5750384040667652:y,0.12485046164378255:z,-0.0739137175381186:roll,2.2204453213316967e-16:pitch,2.220446777168692e-16:yaw,3.278253475347242e-07:dx,0.08:dy,0.08:dz,0.01;blue_tile:x,0.450038527001277:y,-0.2501495793343661:z,-0.0739137175381186:roll,2.2204453213316967e-16:pitch,2.220446777168692e-16:yaw,3.278253475347242e-07:dx,0.08:dy,0.08:dz,0.01;yellow_tile:x,0.45004018231820764:y,0.12484927822145844:z,-0.07391371753909048:roll,-5.141126558445265e-11:pitch,3.565153639496467e-11:yaw,2.778007778373053e-05:dx,0.08:dy,0.08:dz,0.01;green_tile:x,0.7000384040667587:y,0.12485050262195097:z,-0.0739137175381186:roll,2.2204453213316967e-16:pitch,2.220446777168692e-16:yaw,3.278253475347242e-07:dx,0.08:dy,0.08:dz,0.01;red_block_1:x,0.45003836308860334:y,0.24985042066560756:z,-0.05391371753811869:roll,-2.993225372749833e-18:pitch,-2.582700298729987e-17:yaw,1.570796654620244:dx,0.05:dy,0.05:dz,0.05;blue_block_1:x,0.5750384020014226:y,2.8971110138664713e-07:z,-0.05391371808748002:roll,5.314548262165244e-08:pitch,-1.2939707908055732e-08:yaw,9.735049997317224e-07:dx,0.05:dy,0.05:dz,0.05;yellow_block_1:x,0.45003583447575035:y,0.12485206735997073:z,-0.04391371754293738:roll,-5.296763358443628e-11:pitch,3.067962324378912e-11:yaw,2.0943594471430007:dx,0.05:dy,0.05:dz,0.05;yellow_block_2:x,0.5750385530846499:y,3.501209955847351e-07:z,-0.003913718117706355:roll,7.355283411461911e-09:pitch,-2.0579800936096396e-08:yaw,1.570796537328282:dx,0.05:dy,0.05:dz,0.05;green_block_1:x,0.5751400116005554:y,0.25005917347261064:z,0.11609716997289332:roll,-0.0035107214947784978:pitch,-0.00892350567426036:yaw,1.5730175173721455:dx,0.05:dy,0.05:dz,0.05;\n",
      "status 0:\twaiting for robot sensing\n",
      "status 0:\tsensing completed\n",
      "status 0:\tsensing completed\n",
      "status 0:\tsensing completed\n",
      "status 0:\tsensing completed\n",
      "status 0:\tsensing completed\n",
      "status 0:\tsensing completed\n",
      "status 0:\tsensing completed\n",
      "status 10:\tsensing completed\n",
      "performing sensing...\n",
      "robot:x,0.0:y,0.0:z,0.0:roll,-0.0:pitch,0.0:yaw,-0.0:dx,0.0:dy,0.0:dz,0.0;hand:x,0.5750400000000003:y,0.25000000000000006:z,0.11609000000000003:roll,-3.1415853071795867:pitch,1.2248006514719943e-16:yaw,-3.1415853071795867:dx,0.024275404392629724:dy,0.2044156506692143:dz,0.05569436541288881;worksurface:x,0.5100384449958496:y,1.6720352996602017e-07:z,-0.07891372871402935:roll,0.0:pitch,0.0:yaw,-3.141590299206751:dx,0.6:dy,0.7:dz,0.0;red_tile:x,0.5750384040667652:y,0.12485046164378255:z,-0.0739137175381186:roll,2.2204453213316967e-16:pitch,2.220446777168692e-16:yaw,3.278253475347242e-07:dx,0.08:dy,0.08:dz,0.01;blue_tile:x,0.450038527001277:y,-0.2501495793343661:z,-0.0739137175381186:roll,2.2204453213316967e-16:pitch,2.220446777168692e-16:yaw,3.278253475347242e-07:dx,0.08:dy,0.08:dz,0.01;yellow_tile:x,0.4500405817730082:y,0.12484972896398525:z,-0.07391371754007381:roll,5.7642706462723955e-11:pitch,3.725372463126404e-12:yaw,3.885584161477816e-05:dx,0.08:dy,0.08:dz,0.01;green_tile:x,0.7000384040667587:y,0.12485050262195097:z,-0.0739137175381186:roll,2.2204453213316967e-16:pitch,2.220446777168692e-16:yaw,3.278253475347242e-07:dx,0.08:dy,0.08:dz,0.01;red_block_1:x,0.45003836308860334:y,0.24985042066560756:z,-0.05391371753811869:roll,-2.4725480286135036e-18:pitch,-1.201024012766761e-17:yaw,1.570796654620244:dx,0.05:dy,0.05:dz,0.05;blue_block_1:x,0.5750383960666727:y,2.90462911278766e-07:z,-0.05391371812505452:roll,-1.5324425770795233e-08:pitch,-3.1651211937961346e-08:yaw,9.614249750425345e-07:dx,0.05:dy,0.05:dz,0.05;yellow_block_1:x,0.45003525846199677:y,0.12485141615840276:z,-0.04391371754183071:roll,1.4064383437788177e-10:pitch,-2.4983784796867016e-12:yaw,2.094344925381536:dx,0.05:dy,0.05:dz,0.05;yellow_block_2:x,0.5750385465098934:y,3.5705677497999133e-07:z,-0.003913718302829494:roll,-3.437550229783498e-08:pitch,-9.667382140577035e-10:yaw,1.5707965256665815:dx,0.05:dy,0.05:dz,0.05;green_block_1:x,0.5749697887634524:y,0.2500002499202382:z,0.11610076390173973:roll,0.0023796148841494966:pitch,-0.007402148944846663:yaw,1.573782275451341:dx,0.05:dy,0.05:dz,0.05;\n",
      "status 0:\twaiting for robot sensing\n",
      "status 0:\twaiting for robot sensing\n",
      "status 0:\tsensing completed\n",
      "status 1:\twaiting for robot execution\n",
      "performing execution...\n",
      "open\n",
      "status 0:\twaiting for robot execution\n",
      "status 0:\twaiting for robot execution\n",
      "status 0:\twaiting for robot execution\n",
      "status 10:\twaiting for robot execution\n",
      "performing sensing...\n",
      "robot:x,0.0:y,0.0:z,0.0:roll,-0.0:pitch,0.0:yaw,-0.0:dx,0.0:dy,0.0:dz,0.0;hand:x,0.7000400000000003:y,0.12478000000000003:z,-0.040212000000000026:roll,-3.1342:pitch,-0.0023501999999999993:yaw,-1.5678:dx,0.024275404392629724:dy,0.2044156506692143:dz,0.05569436541288881;worksurface:x,0.5100384449958496:y,1.6720352996602017e-07:z,-0.07891372871402935:roll,0.0:pitch,0.0:yaw,-3.141590299206751:dx,0.6:dy,0.7:dz,0.0;red_tile:x,0.5750384040667652:y,0.12485046164378255:z,-0.0739137175381186:roll,2.2204453213316967e-16:pitch,2.220446777168692e-16:yaw,3.278253475347242e-07:dx,0.08:dy,0.08:dz,0.01;blue_tile:x,0.450038527001277:y,-0.2501495793343661:z,-0.0739137175381186:roll,2.2204453213316967e-16:pitch,2.220446777168692e-16:yaw,3.278253475347242e-07:dx,0.08:dy,0.08:dz,0.01;yellow_tile:x,0.450040614005481:y,0.12484976263617384:z,-0.07391371754092035:roll,-3.186991002181542e-11:pitch,-1.461286371333019e-10:yaw,3.974217174318224e-05:dx,0.08:dy,0.08:dz,0.01;green_tile:x,0.700038395660993:y,0.12485073336718117:z,-0.07391371754088283:roll,-3.6195484022983775e-10:pitch,-1.9290982004893102e-10:yaw,4.005821523378096e-07:dx,0.08:dy,0.08:dz,0.01;red_block_1:x,0.45003836308860334:y,0.24985042066560756:z,-0.05391371753811869:roll,-8.565996075955096e-18:pitch,-3.4223067957873766e-17:yaw,1.570796654620244:dx,0.05:dy,0.05:dz,0.05;blue_block_1:x,0.5750383921346506:y,2.898274226725839e-07:z,-0.053913718550112955:roll,-1.7901843379517552e-08:pitch,-1.7924736064494295e-08:yaw,7.799291490311972e-07:dx,0.05:dy,0.05:dz,0.05;yellow_block_1:x,0.4500352118277724:y,0.12485136754241025:z,-0.043913717540759456:roll,-3.008712402871634e-11:pitch,-2.2329271204454936e-10:yaw,2.0943437642708385:dx,0.05:dy,0.05:dz,0.05;yellow_block_2:x,0.5750385430077187:y,3.539533265928263e-07:z,-0.0039137181132336:roll,1.0519566919125175e-08:pitch,2.5783269150261302e-08:yaw,1.5707960027038044:dx,0.05:dy,0.05:dz,0.05;green_block_1:x,0.6996040914703763:y,0.12551516826870646:z,-0.04391371754808482:roll,-1.6473236543090908e-11:pitch,-1.363170772524001e-10:yaw,-0.02421300468851071:dx,0.05:dy,0.05:dz,0.05;\n",
      "status 0:\twaiting for robot sensing\n",
      "status 0:\twaiting for robot sensing\n",
      "status 1:\twaiting for robot execution\n",
      "performing execution...\n",
      "status 0:\twaiting for robot execution\n",
      "status 10:\twaiting for robot execution\n",
      "performing sensing...\n",
      "robot:x,0.0:y,0.0:z,0.0:roll,-0.0:pitch,0.0:yaw,-0.0:dx,0.0:dy,0.0:dz,0.0;hand:x,0.7000400000000003:y,0.12478000000000003:z,0.12978999999999996:roll,-3.1342:pitch,-0.0023501999999999993:yaw,-1.5678:dx,0.024275404392629724:dy,0.2044156506692143:dz,0.05569436541288881;worksurface:x,0.5100384449958496:y,1.6720352996602017e-07:z,-0.07891372871402935:roll,0.0:pitch,0.0:yaw,-3.141590299206751:dx,0.6:dy,0.7:dz,0.0;red_tile:x,0.5750384040667652:y,0.12485046164378255:z,-0.0739137175381186:roll,2.2204453213316967e-16:pitch,2.220446777168692e-16:yaw,3.278253475347242e-07:dx,0.08:dy,0.08:dz,0.01;blue_tile:x,0.450038527001277:y,-0.2501495793343661:z,-0.0739137175381186:roll,2.2204453213316967e-16:pitch,2.220446777168692e-16:yaw,3.278253475347242e-07:dx,0.08:dy,0.08:dz,0.01;yellow_tile:x,0.45004061395248585:y,0.12484976267394113:z,-0.0739137175424247:roll,-2.462685917169001e-10:pitch,1.0681328699375485e-10:yaw,3.9741944134250514e-05:dx,0.08:dy,0.08:dz,0.01;green_tile:x,0.7000383951488328:y,0.12485073419569456:z,-0.07391371754052489:roll,-5.722969759139855e-12:pitch,-2.1624260027487033e-11:yaw,4.017439674264239e-07:dx,0.08:dy,0.08:dz,0.01;red_block_1:x,0.45003836308860334:y,0.24985042066560756:z,-0.05391371753811869:roll,-1.661444699519446e-17:pitch,-3.2058450441027085e-17:yaw,1.570796654620244:dx,0.05:dy,0.05:dz,0.05;blue_block_1:x,0.575038394294934:y,2.8872502372268016e-07:z,-0.05391371827160041:roll,-8.933208320580806e-09:pitch,7.434924101462227e-09:yaw,6.1488774384445e-07:dx,0.05:dy,0.05:dz,0.05;yellow_block_1:x,0.4500352118161447:y,0.12485136760379348:z,-0.04391371754515405:roll,-1.6860203590567233e-10:pitch,2.765923420185417e-10:yaw,2.0943437641450875:dx,0.05:dy,0.05:dz,0.05;yellow_block_2:x,0.575038531545793:y,3.552590198685479e-07:z,-0.003913718583753223:roll,3.7293002614803356e-08:pitch,-3.082340108958475e-08:yaw,1.5707957883617127:dx,0.05:dy,0.05:dz,0.05;green_block_1:x,0.6996040905484104:y,0.1255151697702817:z,-0.04391371754750173:roll,-7.835645200298023e-12:pitch,-7.806659735405955e-11:yaw,-0.02421300330950506:dx,0.05:dy,0.05:dz,0.05;\n",
      "status 0:\tsensing completed\n",
      "status 0:\tsensing completed\n",
      "status 0:\tsensing completed\n",
      "status 0:\tsensing completed\n",
      "status 0:\tsensing completed\n",
      "status 0:\tsensing completed\n",
      "status -1:\tTask completed.\n",
      "\n",
      "\n",
      "% Successful: 100.0\n"
     ]
    }
   ],
   "source": [
    "if run_utamp:\n",
    "    # -- now that we have a plan, we are going to parse it for the steps:\n",
    "    macro_file = open(macro_plan_file, 'r')\n",
    "\n",
    "    # NOTE: counters for macro- and micro-level steps:\n",
    "    macro_count, micro_count = 0, 0\n",
    "\n",
    "    # macro_plan_lines = list(macro_file)\n",
    "    # for L in macro_plan_lines:\n",
    "    #     if L.startswith('('):\n",
    "    #         print('\\t' + str(macro_count) + ' : ' + L.strip())\n",
    "    #         macro_count += 1\n",
    "\n",
    "    macro_plan_lines = []\n",
    "    for N in range(len(ftp.fga.FOON_lvl3)):\n",
    "        PO_name = f'{ftp._reviseObjectLabels(ftp.fga.FOON_lvl3[N].getMotion().getMotionLabel())}_{N}'\n",
    "        # print('\\t' + str(macro_count) + ' : ' + PO_name)\n",
    "        macro_plan_lines.append(PO_name)\n",
    "\n",
    "    macro_count = 0\n",
    "\n",
    "    total_success = 0\n",
    "\n",
    "    for L in range(len(macro_plan_lines)):\n",
    "        # NOTE: this is where we have identified a macro plan's step; here, we check the contents of its PO definition for:\n",
    "        #\t1. preconditions - this will become a sub-problem file's initial states (as predicates)\n",
    "        #\t2. effects - this will become a sub-problem file's goal states (as predicates)\n",
    "\n",
    "        macro_count += 1\n",
    "\n",
    "        # macro_PO_name = macro_plan_lines[L][1:-2].strip()\n",
    "        macro_PO_name = macro_plan_lines[L]\n",
    "\n",
    "        print(\" -- [FOON-TAMP] : Searching for micro-level plan for '\" + macro_PO_name + \"' macro-PO...\")\n",
    "\n",
    "        # -- try to find this step's matching planning operator definition:\n",
    "        matching_PO_obj = all_macro_POs[macro_PO_name] if macro_PO_name in all_macro_POs else None\n",
    "\n",
    "        # -- when we find the equivalent planning operator, then we proceed to treat it as its own problem:\n",
    "        if matching_PO_obj:\n",
    "            # -- create sub-problem file (i.e., at the micro-level):\n",
    "            micro_problem_file = fta._defineMicroProblem(\n",
    "                macro_PO_name,\n",
    "                preconditions=matching_PO_obj.getPreconditions(),\n",
    "                effects=matching_PO_obj.getEffects(),\n",
    "            )\n",
    "\n",
    "            complete_micro_plan.append('; step ' + str(macro_count) + ' -- (' + macro_PO_name + '):')\n",
    "        else:\n",
    "            continue\n",
    "\n",
    "        goal_preds, objects_in_OLP = [], []\n",
    "\n",
    "        # -- parse the goals in the generated micro-problem file:\n",
    "        micro_problem_lines = open(micro_problem_file, 'r').readlines()\n",
    "        for M in range(len(micro_problem_lines)):\n",
    "            if (\"(:goal\" in micro_problem_lines[M]):\n",
    "                while True:\n",
    "                    M += 1\n",
    "\n",
    "                    if micro_problem_lines[M].startswith(\"))\"):\n",
    "                        break\n",
    "\n",
    "                    goal_string = str(micro_problem_lines[M]).replace(\"\\t\", \"\").strip()\n",
    "                    if goal_string:\n",
    "                        # -- first, we check if a goal string line is actually referring to a comment or a negation predicate:\n",
    "                        if goal_string.startswith(\";\") or goal_string.startswith(\"(not\"):\n",
    "                            # -- we want to skip those:\n",
    "                            continue\n",
    "\n",
    "                        # -- append the goal string to the list of goal predicates:\n",
    "                        goal_preds.append(goal_string)\n",
    "\n",
    "                        # -- we also want to parse the goal string to identify all possible expressions for objects at the object level:\n",
    "                        predicate_args = goal_preds[-1][1:-1].split(\" \")\n",
    "                        objects_in_OLP.extend([predicate_args[x] for x in range(1, len(predicate_args))])\n",
    "                #endwhile\n",
    "            #endif\n",
    "        #endfor\n",
    "\n",
    "        # print(\"objects in OLP:\", objects_in_OLP)\n",
    "\n",
    "        assert bool(goal_preds), f\"Error: empty list of goals! Check the generated micro-problem file '{micro_problem_file}'\"\n",
    "\n",
    "        # -- prompt LLMs to perform object grounding\n",
    "        #       (remove any objects that do not require grounding -- these are handled by the task planner system):\n",
    "        objects_in_OLP = list(set(objects_in_OLP) - set(['hand', 'air', 'table', 'robot']))\n",
    "\n",
    "        message = [\n",
    "            {\n",
    "                \"role\": \"user\",\n",
    "                \"content\": f\"Assign each of these simulation objects to real-world objects. You may only assign each object once.\"\n",
    "                    \" Give your output as a Python dictionary.\"\n",
    "                    f\"\\nReal-world object: {objects_in_OLP}\"\n",
    "                    f\"\\nSimulated objects: {utamp.objects_in_sim}\"\n",
    "                    \"\\nExample: {'object_1': 'sim_object_1', 'object_2': 'sim_object_2'}\"\n",
    "            }\n",
    "        ]\n",
    "\n",
    "        _, response = prompt_LLM(message, selected_LLM)\n",
    "        # print(\"LLM response:\", response)\n",
    "        regex_matches = re.findall(r'\\{.+\\}', str(eval(response)))\n",
    "\n",
    "        if bool(regex_matches):\n",
    "            # -- this means that the LLM has proposed some object groundings for us:\n",
    "            obj_grounding = eval(regex_matches.pop())\n",
    "            print(obj_grounding)\n",
    "\n",
    "            # -- parse the goal predicates and replace the generic object names with those of the sim objects:\n",
    "            print(\"before grounding:\", goal_preds)\n",
    "            for G in range(len(goal_preds)):\n",
    "                goal_pred_parts = goal_preds[G][1:-1].split(\" \")\n",
    "                for obj in goal_pred_parts[1:]:\n",
    "                    if obj in obj_grounding:\n",
    "                        goal_preds[G] = goal_preds[G].replace(obj, obj_grounding[obj])\n",
    "\n",
    "            print(\"after grounding:\", goal_preds)\n",
    "\n",
    "        success = driver.main(utamp, goal_preds=goal_preds)\n",
    "\n",
    "        total_success += int(success)\n",
    "\n",
    "    # utamp.pause()\n",
    "\n",
    "    print('\\n\\n% Successful:', total_success / macro_count * 100.0)"
   ]
  },
  {
   "cell_type": "markdown",
   "metadata": {},
   "source": [
    "# Baseline: LLM-as-Planner "
   ]
  },
  {
   "cell_type": "code",
   "execution_count": 177,
   "metadata": {},
   "outputs": [
    {
     "name": "stderr",
     "output_type": "stream",
     "text": [
      "  -- Acquiring object properties from CoppeliaSim...: 100%|██████████| 17/17 [00:00<00:00, 136.94it/s]"
     ]
    },
    {
     "name": "stdout",
     "output_type": "stream",
     "text": [
      "objects presently in scene: ['red_tile', 'blue_tile', 'yellow_tile', 'green_tile', 'red_block_1', 'red_block_2', 'red_block_3', 'blue_block_1', 'blue_block_2', 'yellow_block_1', 'yellow_block_2', 'yellow_block_3', 'green_block_1', 'green_block_2', 'green_block_3', 'green_block_4', 'green_block_5']\n",
      "Generate a PDDL task plan for the following task: I have 2 yellow blocks, 1 red block, 1 green block, and 1 blue block. There is a green tile on the table. How can I stack all blocks on their corresponding tiles? The current state of the robot's environment is provided as the following dictionary: {'on': {'red_tile': 'air', 'blue_tile': 'air', 'yellow_tile': 'air', 'green_tile': 'air', 'red_block_1': 'air', 'red_block_2': 'air', 'red_block_3': 'air', 'blue_block_1': 'air', 'blue_block_2': 'air', 'yellow_block_1': 'air', 'yellow_block_2': 'air', 'yellow_block_3': 'air', 'green_block_1': 'air', 'green_block_2': 'air', 'green_block_3': 'air', 'green_block_4': 'air', 'green_block_5': 'air'}, 'under': {'red_tile': 'table', 'blue_tile': 'table', 'yellow_tile': 'table', 'green_tile': 'table', 'red_block_1': 'table', 'red_block_2': 'table', 'red_block_3': 'table', 'blue_block_1': 'table', 'blue_block_2': 'table', 'yellow_block_1': 'table', 'yellow_block_2': 'table', 'yellow_block_3': 'table', 'green_block_1': 'table', 'green_block_2': 'table', 'green_block_3': 'table', 'green_block_4': 'table', 'green_block_5': 'table', 'hand': 'air'}, 'in': {'hand': 'air'}}.\n",
      "\n"
     ]
    },
    {
     "name": "stderr",
     "output_type": "stream",
     "text": [
      "\n"
     ]
    },
    {
     "name": "stdout",
     "output_type": "stream",
     "text": [
      "The task prompt and the dictionary seem to be inconsistent. The task prompt mentions 2 yellow blocks, 1 red block, 1 green block, and 1 blue block, but the dictionary includes more blocks. I will assume that the task prompt is correct and ignore the extra blocks in the dictionary.\n",
      "\n",
      "Here is the PDDL task plan:\n",
      "\n",
      "1. (pick yellow_block_1 table)\n",
      "2. (place yellow_block_1 yellow_tile)\n",
      "3. (pick yellow_block_2 table)\n",
      "4. (place yellow_block_2 yellow_block_1)\n",
      "5. (pick red_block_1 table)\n",
      "6. (place red_block_1 red_tile)\n",
      "7. (pick green_block_1 table)\n",
      "8. (place green_block_1 green_tile)\n",
      "9. (pick blue_block_1 table)\n",
      "10. (place blue_block_1 blue_tile)\n"
     ]
    }
   ],
   "source": [
    "utamp.stop()\n",
    "\n",
    "if run_utamp:\n",
    "    utamp = driver.UTAMP(scene_file_name=fpath)\n",
    "\n",
    "    print(\"objects presently in scene:\", utamp.objects_in_sim)\n",
    "\n",
    "    # -- use the LLM as a planner to acquire a task plan:\n",
    "\n",
    "    # -- we are going to feed the LLM with the prompt of coming up with a plan using the pre-defined skills:\n",
    "    llm_planner_sys_prompt = open('llm_prompts/llm_planner_system_prompt_2.txt', 'r').read()\n",
    "    message = [{\"role\": \"system\", \"content\": llm_planner_sys_prompt}]\n",
    "\n",
    "    llm_planner_user_prompt = f\"Generate a PDDL task plan for the following task: {user_task} \"\\\n",
    "        f\"The current state of the robot's environment is provided as the following dictionary: {utamp.perform_sensing(method=-1)}.\"\n",
    "\n",
    "    print(llm_planner_user_prompt)\n",
    "\n",
    "    message.extend([{\"role\": \"user\", \"content\": llm_planner_user_prompt}])\n",
    "    print()\n",
    "\n",
    "    _, response = prompt_LLM(given_prompt=message, model_name=openai_models[-1], verbose=False)\n",
    "    print(response)\n",
    "\n",
    "    step_count = 0\n",
    "    steps = response.split('\\n')\n",
    "\n",
    "    goals_per_step = []\n",
    "    parsed_steps = []\n",
    "\n",
    "    while True:\n",
    "        step_count += 1\n",
    "\n",
    "        found = False\n",
    "\n",
    "        for x in range(len(steps)):\n",
    "            if steps[x].startswith(f\"{step_count}.\"):\n",
    "\n",
    "                found = True\n",
    "\n",
    "                step_parts = steps[x].split('(')[1].split(')')[0]\n",
    "                action, args = step_parts.split(' ')[0], step_parts.split(' ')[1:]\n",
    "\n",
    "                tokenized_step = step_parts.split(' ')\n",
    "\n",
    "                parsed_steps.append(tokenized_step)\n",
    "\n",
    "                if 'place' in action or 'stack' in action:\n",
    "                    goals_per_step.append([\n",
    "                        f\"(on {args[0]} air)\",\n",
    "                        f\"(under {args[0]} {args[1]})\",\n",
    "                        f\"(on {args[1]} {args[0]})\",\n",
    "                    ])\n",
    "\n",
    "        if not found:\n",
    "            break\n"
   ]
  },
  {
   "cell_type": "code",
   "execution_count": 159,
   "metadata": {},
   "outputs": [
    {
     "name": "stdout",
     "output_type": "stream",
     "text": [
      "5\n"
     ]
    },
    {
     "ename": "KeyboardInterrupt",
     "evalue": "",
     "output_type": "error",
     "traceback": [
      "\u001b[1;31m---------------------------------------------------------------------------\u001b[0m",
      "\u001b[1;31mKeyboardInterrupt\u001b[0m                         Traceback (most recent call last)",
      "\u001b[1;32m~\\AppData\\Local\\Temp/ipykernel_30316/3901019450.py\u001b[0m in \u001b[0;36m<module>\u001b[1;34m\u001b[0m\n\u001b[0;32m      4\u001b[0m     \u001b[0mtotal_success\u001b[0m \u001b[1;33m=\u001b[0m \u001b[1;36m0\u001b[0m\u001b[1;33m\u001b[0m\u001b[1;33m\u001b[0m\u001b[0m\n\u001b[0;32m      5\u001b[0m     \u001b[1;32mfor\u001b[0m \u001b[0mx\u001b[0m \u001b[1;32min\u001b[0m \u001b[0mgoals_per_step\u001b[0m\u001b[1;33m:\u001b[0m\u001b[1;33m\u001b[0m\u001b[1;33m\u001b[0m\u001b[0m\n\u001b[1;32m----> 6\u001b[1;33m         \u001b[0msuccess\u001b[0m \u001b[1;33m=\u001b[0m \u001b[0mdriver\u001b[0m\u001b[1;33m.\u001b[0m\u001b[0mmain\u001b[0m\u001b[1;33m(\u001b[0m\u001b[0mutamp\u001b[0m\u001b[1;33m,\u001b[0m \u001b[0mgoal_preds\u001b[0m\u001b[1;33m=\u001b[0m\u001b[0mx\u001b[0m\u001b[1;33m)\u001b[0m\u001b[1;33m\u001b[0m\u001b[1;33m\u001b[0m\u001b[0m\n\u001b[0m\u001b[0;32m      7\u001b[0m         \u001b[0mtotal_success\u001b[0m \u001b[1;33m+=\u001b[0m \u001b[0mint\u001b[0m\u001b[1;33m(\u001b[0m\u001b[0msuccess\u001b[0m\u001b[1;33m)\u001b[0m\u001b[1;33m\u001b[0m\u001b[1;33m\u001b[0m\u001b[0m\n\u001b[0;32m      8\u001b[0m \u001b[1;33m\u001b[0m\u001b[0m\n",
      "\u001b[1;32mc:\\Users\\david\\OLP_LLM\\utamp\\driver.py\u001b[0m in \u001b[0;36mmain\u001b[1;34m(utamp_obj, goal_preds)\u001b[0m\n\u001b[0;32m    586\u001b[0m     }\n\u001b[0;32m    587\u001b[0m \u001b[1;33m\u001b[0m\u001b[0m\n\u001b[1;32m--> 588\u001b[1;33m     \u001b[0mcnx\u001b[0m\u001b[1;33m,\u001b[0m \u001b[0mcursor\u001b[0m \u001b[1;33m=\u001b[0m \u001b[0mconnect_to_DB\u001b[0m\u001b[1;33m(\u001b[0m\u001b[1;33m)\u001b[0m\u001b[1;33m\u001b[0m\u001b[1;33m\u001b[0m\u001b[0m\n\u001b[0m\u001b[0;32m    589\u001b[0m \u001b[1;33m\u001b[0m\u001b[0m\n\u001b[0;32m    590\u001b[0m     \u001b[0msql_command\u001b[0m \u001b[1;33m=\u001b[0m \u001b[1;34mf'UPDATE utamp_data SET status = -1 WHERE user_id = {vars_to_insert[\"user_id\"]}'\u001b[0m\u001b[1;33m\u001b[0m\u001b[1;33m\u001b[0m\u001b[0m\n",
      "\u001b[1;32mc:\\Users\\david\\OLP_LLM\\utamp\\driver.py\u001b[0m in \u001b[0;36mconnect_to_DB\u001b[1;34m()\u001b[0m\n\u001b[0;32m    538\u001b[0m \u001b[1;33m\u001b[0m\u001b[0m\n\u001b[0;32m    539\u001b[0m     \u001b[0mcnx\u001b[0m \u001b[1;33m=\u001b[0m \u001b[0msql\u001b[0m\u001b[1;33m.\u001b[0m\u001b[0mconnect\u001b[0m\u001b[1;33m(\u001b[0m\u001b[1;33m**\u001b[0m\u001b[0mconfig\u001b[0m\u001b[1;33m)\u001b[0m\u001b[1;33m\u001b[0m\u001b[1;33m\u001b[0m\u001b[0m\n\u001b[1;32m--> 540\u001b[1;33m     \u001b[0mcnx\u001b[0m\u001b[1;33m.\u001b[0m\u001b[0mautocommit\u001b[0m \u001b[1;33m=\u001b[0m \u001b[1;32mTrue\u001b[0m\u001b[1;33m\u001b[0m\u001b[1;33m\u001b[0m\u001b[0m\n\u001b[0m\u001b[0;32m    541\u001b[0m     \u001b[0mcursor\u001b[0m \u001b[1;33m=\u001b[0m \u001b[0mcnx\u001b[0m\u001b[1;33m.\u001b[0m\u001b[0mcursor\u001b[0m\u001b[1;33m(\u001b[0m\u001b[0mbuffered\u001b[0m\u001b[1;33m=\u001b[0m\u001b[1;32mTrue\u001b[0m\u001b[1;33m)\u001b[0m\u001b[1;33m\u001b[0m\u001b[1;33m\u001b[0m\u001b[0m\n\u001b[0;32m    542\u001b[0m \u001b[1;33m\u001b[0m\u001b[0m\n",
      "\u001b[1;32mc:\\Python\\Python3\\lib\\site-packages\\mysql\\connector\\connection_cext.py\u001b[0m in \u001b[0;36mautocommit\u001b[1;34m(self, value)\u001b[0m\n\u001b[0;32m    192\u001b[0m         \u001b[1;32mtry\u001b[0m\u001b[1;33m:\u001b[0m\u001b[1;33m\u001b[0m\u001b[1;33m\u001b[0m\u001b[0m\n\u001b[0;32m    193\u001b[0m             \u001b[0mself\u001b[0m\u001b[1;33m.\u001b[0m\u001b[0m_cmysql\u001b[0m\u001b[1;33m.\u001b[0m\u001b[0mautocommit\u001b[0m\u001b[1;33m(\u001b[0m\u001b[0mvalue\u001b[0m\u001b[1;33m)\u001b[0m\u001b[1;33m\u001b[0m\u001b[1;33m\u001b[0m\u001b[0m\n\u001b[1;32m--> 194\u001b[1;33m             \u001b[0mself\u001b[0m\u001b[1;33m.\u001b[0m\u001b[0m_autocommit\u001b[0m \u001b[1;33m=\u001b[0m \u001b[0mvalue\u001b[0m\u001b[1;33m\u001b[0m\u001b[1;33m\u001b[0m\u001b[0m\n\u001b[0m\u001b[0;32m    195\u001b[0m         \u001b[1;32mexcept\u001b[0m \u001b[0mMySQLInterfaceError\u001b[0m \u001b[1;32mas\u001b[0m \u001b[0merr\u001b[0m\u001b[1;33m:\u001b[0m\u001b[1;33m\u001b[0m\u001b[1;33m\u001b[0m\u001b[0m\n\u001b[0;32m    196\u001b[0m             raise get_mysql_exception(\n",
      "\u001b[1;31mKeyboardInterrupt\u001b[0m: "
     ]
    }
   ],
   "source": [
    "%%script --no-raise-error false\n",
    "\n",
    "if run_utamp:\n",
    "    print(len(goals_per_step))\n",
    "\n",
    "    total_success = 0\n",
    "    for x in goals_per_step:\n",
    "        success = driver.main(utamp, goal_preds=x)\n",
    "        total_success += int(success)\n",
    "\n",
    "    print('\\n\\n% Successful:', total_success / (step_count-1) * 100.0)"
   ]
  },
  {
   "cell_type": "code",
   "execution_count": 175,
   "metadata": {},
   "outputs": [
    {
     "ename": "Exception",
     "evalue": "316: in sim.getObjectAlias: object does not exist.",
     "output_type": "error",
     "traceback": [
      "\u001b[1;31m---------------------------------------------------------------------------\u001b[0m",
      "\u001b[1;31mException\u001b[0m                                 Traceback (most recent call last)",
      "\u001b[1;32m~\\AppData\\Local\\Temp/ipykernel_30316/1158763008.py\u001b[0m in \u001b[0;36m<module>\u001b[1;34m\u001b[0m\n\u001b[0;32m     12\u001b[0m         \u001b[0mtarget_object\u001b[0m \u001b[1;33m=\u001b[0m \u001b[0mstep\u001b[0m\u001b[1;33m[\u001b[0m\u001b[1;33m-\u001b[0m\u001b[1;36m1\u001b[0m\u001b[1;33m]\u001b[0m\u001b[1;33m\u001b[0m\u001b[1;33m\u001b[0m\u001b[0m\n\u001b[0;32m     13\u001b[0m \u001b[1;33m\u001b[0m\u001b[0m\n\u001b[1;32m---> 14\u001b[1;33m         success = utamp.path_planning(\n\u001b[0m\u001b[0;32m     15\u001b[0m             \u001b[0mtarget_object\u001b[0m\u001b[1;33m=\u001b[0m\u001b[0mtarget_object\u001b[0m\u001b[1;33m,\u001b[0m\u001b[1;33m\u001b[0m\u001b[1;33m\u001b[0m\u001b[0m\n\u001b[0;32m     16\u001b[0m             gripper_action=close_gripper)\n",
      "\u001b[1;32mc:\\Users\\david\\OLP_LLM\\utamp\\driver.py\u001b[0m in \u001b[0;36mpath_planning\u001b[1;34m(self, target_object, gripper_action, algorithm)\u001b[0m\n\u001b[0;32m    528\u001b[0m             \u001b[0mobj_in_hand\u001b[0m \u001b[1;33m=\u001b[0m \u001b[0mself\u001b[0m\u001b[1;33m.\u001b[0m\u001b[0msim\u001b[0m\u001b[1;33m.\u001b[0m\u001b[0mgetObjectChild\u001b[0m\u001b[1;33m(\u001b[0m\u001b[0mself\u001b[0m\u001b[1;33m.\u001b[0m\u001b[0msim\u001b[0m\u001b[1;33m.\u001b[0m\u001b[0mgetObject\u001b[0m\u001b[1;33m(\u001b[0m\u001b[1;34mf'/{self.robot_name}/{self.robot_name}_gripper_attachPoint'\u001b[0m\u001b[1;33m)\u001b[0m\u001b[1;33m,\u001b[0m \u001b[1;36m0\u001b[0m\u001b[1;33m)\u001b[0m\u001b[1;33m\u001b[0m\u001b[1;33m\u001b[0m\u001b[0m\n\u001b[0;32m    529\u001b[0m             \u001b[1;32mif\u001b[0m \u001b[0mgripper_action\u001b[0m \u001b[1;33m==\u001b[0m \u001b[1;36m1\u001b[0m\u001b[1;33m:\u001b[0m\u001b[1;33m\u001b[0m\u001b[1;33m\u001b[0m\u001b[0m\n\u001b[1;32m--> 530\u001b[1;33m                 \u001b[1;32mif\u001b[0m \u001b[0mtarget_object\u001b[0m \u001b[1;32min\u001b[0m \u001b[0mself\u001b[0m\u001b[1;33m.\u001b[0m\u001b[0msim\u001b[0m\u001b[1;33m.\u001b[0m\u001b[0mgetObjectAlias\u001b[0m\u001b[1;33m(\u001b[0m\u001b[0mobj_in_hand\u001b[0m\u001b[1;33m)\u001b[0m\u001b[1;33m:\u001b[0m\u001b[1;33m\u001b[0m\u001b[1;33m\u001b[0m\u001b[0m\n\u001b[0m\u001b[0;32m    531\u001b[0m                     \u001b[1;31m# -- this means that we have successfully grasped the intended object:\u001b[0m\u001b[1;33m\u001b[0m\u001b[1;33m\u001b[0m\u001b[0m\n\u001b[0;32m    532\u001b[0m                     \u001b[1;32mreturn\u001b[0m \u001b[1;32mTrue\u001b[0m\u001b[1;33m\u001b[0m\u001b[1;33m\u001b[0m\u001b[0m\n",
      "\u001b[1;32mc:\\Python\\Python3\\lib\\site-packages\\coppeliasim_zmqremoteapi_client\\__init__.py\u001b[0m in \u001b[0;36m<lambda>\u001b[1;34m(func, *a)\u001b[0m\n\u001b[0;32m    159\u001b[0m                 \u001b[1;32mraise\u001b[0m \u001b[0mValueError\u001b[0m\u001b[1;33m(\u001b[0m\u001b[1;34m'found nondict'\u001b[0m\u001b[1;33m)\u001b[0m\u001b[1;33m\u001b[0m\u001b[1;33m\u001b[0m\u001b[0m\n\u001b[0;32m    160\u001b[0m             \u001b[1;32mif\u001b[0m \u001b[0mlen\u001b[0m\u001b[1;33m(\u001b[0m\u001b[0mv\u001b[0m\u001b[1;33m)\u001b[0m \u001b[1;33m==\u001b[0m \u001b[1;36m1\u001b[0m \u001b[1;32mand\u001b[0m \u001b[1;34m'func'\u001b[0m \u001b[1;32min\u001b[0m \u001b[0mv\u001b[0m\u001b[1;33m:\u001b[0m\u001b[1;33m\u001b[0m\u001b[1;33m\u001b[0m\u001b[0m\n\u001b[1;32m--> 161\u001b[1;33m                 \u001b[0msetattr\u001b[0m\u001b[1;33m(\u001b[0m\u001b[0mret\u001b[0m\u001b[1;33m,\u001b[0m \u001b[0mk\u001b[0m\u001b[1;33m,\u001b[0m \u001b[1;32mlambda\u001b[0m \u001b[1;33m*\u001b[0m\u001b[0ma\u001b[0m\u001b[1;33m,\u001b[0m \u001b[0mfunc\u001b[0m\u001b[1;33m=\u001b[0m\u001b[1;34mf'{name}.{k}'\u001b[0m\u001b[1;33m:\u001b[0m \u001b[0mself\u001b[0m\u001b[1;33m.\u001b[0m\u001b[0mcall\u001b[0m\u001b[1;33m(\u001b[0m\u001b[0mfunc\u001b[0m\u001b[1;33m,\u001b[0m \u001b[0ma\u001b[0m\u001b[1;33m)\u001b[0m\u001b[1;33m)\u001b[0m\u001b[1;33m\u001b[0m\u001b[1;33m\u001b[0m\u001b[0m\n\u001b[0m\u001b[0;32m    162\u001b[0m             \u001b[1;32melif\u001b[0m \u001b[0mlen\u001b[0m\u001b[1;33m(\u001b[0m\u001b[0mv\u001b[0m\u001b[1;33m)\u001b[0m \u001b[1;33m==\u001b[0m \u001b[1;36m1\u001b[0m \u001b[1;32mand\u001b[0m \u001b[1;34m'const'\u001b[0m \u001b[1;32min\u001b[0m \u001b[0mv\u001b[0m\u001b[1;33m:\u001b[0m\u001b[1;33m\u001b[0m\u001b[1;33m\u001b[0m\u001b[0m\n\u001b[0;32m    163\u001b[0m                 \u001b[0msetattr\u001b[0m\u001b[1;33m(\u001b[0m\u001b[0mret\u001b[0m\u001b[1;33m,\u001b[0m \u001b[0mk\u001b[0m\u001b[1;33m,\u001b[0m \u001b[0mv\u001b[0m\u001b[1;33m[\u001b[0m\u001b[1;34m'const'\u001b[0m\u001b[1;33m]\u001b[0m\u001b[1;33m)\u001b[0m\u001b[1;33m\u001b[0m\u001b[1;33m\u001b[0m\u001b[0m\n",
      "\u001b[1;32mc:\\Python\\Python3\\lib\\site-packages\\coppeliasim_zmqremoteapi_client\\__init__.py\u001b[0m in \u001b[0;36mcall\u001b[1;34m(self, func, args)\u001b[0m\n\u001b[0;32m    147\u001b[0m             \u001b[0mreply\u001b[0m \u001b[1;33m=\u001b[0m \u001b[0mself\u001b[0m\u001b[1;33m.\u001b[0m\u001b[0m_recv\u001b[0m\u001b[1;33m(\u001b[0m\u001b[1;33m)\u001b[0m\u001b[1;33m\u001b[0m\u001b[1;33m\u001b[0m\u001b[0m\n\u001b[0;32m    148\u001b[0m         \u001b[1;32mif\u001b[0m \u001b[1;34m'err'\u001b[0m \u001b[1;32min\u001b[0m \u001b[0mreply\u001b[0m\u001b[1;33m:\u001b[0m\u001b[1;33m\u001b[0m\u001b[1;33m\u001b[0m\u001b[0m\n\u001b[1;32m--> 149\u001b[1;33m             \u001b[1;32mraise\u001b[0m \u001b[0mException\u001b[0m\u001b[1;33m(\u001b[0m\u001b[0mreply\u001b[0m\u001b[1;33m.\u001b[0m\u001b[0mget\u001b[0m\u001b[1;33m(\u001b[0m\u001b[1;34m'err'\u001b[0m\u001b[1;33m)\u001b[0m\u001b[1;33m)\u001b[0m  \u001b[1;31m# __EXCEPTION__\u001b[0m\u001b[1;33m\u001b[0m\u001b[1;33m\u001b[0m\u001b[0m\n\u001b[0m\u001b[0;32m    150\u001b[0m         \u001b[1;32mreturn\u001b[0m \u001b[0mself\u001b[0m\u001b[1;33m.\u001b[0m\u001b[0m_process_response\u001b[0m\u001b[1;33m(\u001b[0m\u001b[0mreply\u001b[0m\u001b[1;33m)\u001b[0m\u001b[1;33m\u001b[0m\u001b[1;33m\u001b[0m\u001b[0m\n\u001b[0;32m    151\u001b[0m \u001b[1;33m\u001b[0m\u001b[0m\n",
      "\u001b[1;31mException\u001b[0m: 316: in sim.getObjectAlias: object does not exist."
     ]
    }
   ],
   "source": [
    "if run_utamp:\n",
    "    utamp.start()\n",
    "\n",
    "    total_success = 0\n",
    "\n",
    "    for step in parsed_steps:\n",
    "        close_gripper, target_object = None, None\n",
    "        if 'pick' in step[0]:\n",
    "            close_gripper = 1\n",
    "        else:\n",
    "            close_gripper = 0\n",
    "        target_object = step[-1]\n",
    "\n",
    "        success = utamp.path_planning(\n",
    "            target_object=target_object,\n",
    "            gripper_action=close_gripper)\n",
    "\n",
    "        total_success += int(success)\n",
    "\n",
    "    print('\\n\\n% Successful:', total_success / (step_count-1) * 100.0)\n",
    "\n",
    "    utamp.stop()"
   ]
  },
  {
   "cell_type": "code",
   "execution_count": null,
   "metadata": {},
   "outputs": [],
   "source": []
  },
  {
   "cell_type": "code",
   "execution_count": 178,
   "metadata": {
    "tags": []
   },
   "outputs": [],
   "source": [
    "# %%script --no-raise-error false\n",
    "utamp.start()\n",
    "utamp.path_planning(\n",
    "\ttarget_object='red_block_2',\n",
    "\tgripper_action=1,\n",
    "\talgorithm='PRMstar')\n",
    "\n",
    "utamp.path_planning(\n",
    "\ttarget_object='green_block_2',\n",
    "\tgripper_action=0,\n",
    "\talgorithm='PRMstar')\n",
    "\n",
    "utamp.path_planning(\n",
    "\ttarget_object='green_block_3',\n",
    "\tgripper_action=1,\n",
    "\talgorithm='PRMstar')\n",
    "\n",
    "utamp.path_planning(\n",
    "\ttarget_object='red_block_2',\n",
    "\tgripper_action=0,\n",
    "\talgorithm='PRMstar')\n",
    "\n",
    "utamp.path_planning(\n",
    "\ttarget_object='yellow_block_1',\n",
    "\tgripper_action=1,\n",
    "\talgorithm='PRMstar')\n",
    "\n",
    "utamp.path_planning(\n",
    "\ttarget_object='yellow_tile',\n",
    "\tgripper_action=0,\n",
    "\talgorithm='PRMstar')\n",
    "\n",
    "utamp.stop()"
   ]
  },
  {
   "cell_type": "code",
   "execution_count": null,
   "metadata": {},
   "outputs": [],
   "source": []
  }
 ],
 "metadata": {
  "kernelspec": {
   "display_name": "olp_llm",
   "language": "python",
   "name": "python3"
  },
  "language_info": {
   "codemirror_mode": {
    "name": "ipython",
    "version": 3
   },
   "file_extension": ".py",
   "mimetype": "text/x-python",
   "name": "python",
   "nbconvert_exporter": "python",
   "pygments_lexer": "ipython3",
   "version": "3.9.12"
  }
 },
 "nbformat": 4,
 "nbformat_minor": 2
}
